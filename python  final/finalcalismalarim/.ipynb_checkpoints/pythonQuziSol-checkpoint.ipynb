{
 "cells": [
  {
   "cell_type": "code",
   "execution_count": 8,
   "metadata": {},
   "outputs": [],
   "source": [
    "fp=open(\"romeo.txt\")\n",
    "mynewlist=[]\n",
    "for i in fp:\n",
    "    i=i.upper()\n",
    "    kelime =i.split()\n",
    "    for j in kelime:\n",
    "        if j not in mynewlist:\n",
    "            mynewlist.append(j)"
   ]
  },
  {
   "cell_type": "code",
   "execution_count": 2,
   "metadata": {},
   "outputs": [
    {
     "name": "stdout",
     "output_type": "stream",
     "text": [
      "['BUT', 'SOFT', 'WHAT', 'LIGHT', 'THROUGH', 'YONDER', 'WINDOW', 'BREAKS', 'IT', 'IS', 'THE', 'EAST', 'AND', 'JULIET', 'SUN', 'ARISE', 'FAIR', 'KILL', 'ENVIOUS', 'MOON', 'WHO', 'ALREADY', 'SICK', 'PALE', 'WITH', 'GRIEF']\n"
     ]
    }
   ],
   "source": [
    "print(mynewlist)"
   ]
  },
  {
   "cell_type": "code",
   "execution_count": 4,
   "metadata": {},
   "outputs": [],
   "source": [
    "mydict={}\n",
    "for x in mynewlist:\n",
    "    x=x[0]\n",
    "    if x not in mydict:\n",
    "         mydict[x]=1\n",
    "    else:\n",
    "        mydict[x]+=1"
   ]
  },
  {
   "cell_type": "code",
   "execution_count": 7,
   "metadata": {},
   "outputs": [
    {
     "data": {
      "text/plain": [
       "{'A': 3,\n",
       " 'B': 2,\n",
       " 'E': 2,\n",
       " 'F': 1,\n",
       " 'G': 1,\n",
       " 'I': 2,\n",
       " 'J': 1,\n",
       " 'K': 1,\n",
       " 'L': 1,\n",
       " 'M': 1,\n",
       " 'P': 1,\n",
       " 'S': 3,\n",
       " 'T': 2,\n",
       " 'W': 4,\n",
       " 'Y': 1}"
      ]
     },
     "execution_count": 7,
     "metadata": {},
     "output_type": "execute_result"
    }
   ],
   "source": [
    "mydict"
   ]
  },
  {
   "cell_type": "code",
   "execution_count": null,
   "metadata": {},
   "outputs": [],
   "source": []
  }
 ],
 "metadata": {
  "kernelspec": {
   "display_name": "Python 3",
   "language": "python",
   "name": "python3"
  },
  "language_info": {
   "codemirror_mode": {
    "name": "ipython",
    "version": 3
   },
   "file_extension": ".py",
   "mimetype": "text/x-python",
   "name": "python",
   "nbconvert_exporter": "python",
   "pygments_lexer": "ipython3",
   "version": "3.6.4"
  }
 },
 "nbformat": 4,
 "nbformat_minor": 2
}
