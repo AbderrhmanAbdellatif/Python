{
 "cells": [
  {
   "cell_type": "markdown",
   "metadata": {},
   "source": [
    "### Question 1: Write a Python function that checks whether a passed string is palindrome or not."
   ]
  },
  {
   "cell_type": "code",
   "execution_count": 25,
   "metadata": {},
   "outputs": [],
   "source": [
    "def isPalindrome(s): # accepts a string\n",
    "     return s==s[::-1] # returns True or False"
   ]
  },
  {
   "cell_type": "code",
   "execution_count": 26,
   "metadata": {},
   "outputs": [
    {
     "name": "stdout",
     "output_type": "stream",
     "text": [
      "True\n"
     ]
    }
   ],
   "source": [
    "print(isPalindrome('aza')) "
   ]
  },
  {
   "cell_type": "markdown",
   "metadata": {},
   "source": [
    "### Question 2: Write a Python function that accepts a hyphen-separated sequence of words as input and prints the words in a hyphen-separated sequence after sorting them alphabetically.\n",
    "example input: green-red-yellow-black-white \n",
    "\n",
    "expected output : black-green-red-white-yellow"
   ]
  },
  {
   "cell_type": "code",
   "execution_count": 27,
   "metadata": {},
   "outputs": [],
   "source": [
    "def sort_input(s): # accepts a string\n",
    "    item=[n for n in s.split('-')]\n",
    "    item.sort()\n",
    "    s='-'.join(item)\n",
    "    return s # returns the string sorted "
   ]
  },
  {
   "cell_type": "code",
   "execution_count": 28,
   "metadata": {},
   "outputs": [
    {
     "name": "stdout",
     "output_type": "stream",
     "text": [
      "black-green-red-white-yellow\n"
     ]
    }
   ],
   "source": [
    "print(sort_input(\"green-red-yellow-black-white\"))"
   ]
  },
  {
   "cell_type": "code",
   "execution_count": 29,
   "metadata": {},
   "outputs": [
    {
     "name": "stdout",
     "output_type": "stream",
     "text": [
      "black-green-red-white-yellow\n"
     ]
    }
   ],
   "source": [
    "print(sort_input(\"green-red-yellow-black-white\"))"
   ]
  },
  {
   "cell_type": "code",
   "execution_count": 30,
   "metadata": {},
   "outputs": [],
   "source": [
    "def findTripletEqualZero(myList):\n",
    "    myNewList= []\n",
    "    innerList= []\n",
    "    for i in range(len(myList)):\n",
    "        for j in range(i+1,len(myList)):\n",
    "            for k in range(j+1,len(myList)):\n",
    "                if myList[i]+myList[j]+myList[k]== 0:\n",
    "                    innerList= [myList[i], myList[j], myList[k]]\n",
    "                    found= False\n",
    "                    for [a,b,c] in myNewList:\n",
    "                        if a in innerList and b in innerList and c in innerList:\n",
    "                            found= True\n",
    "                            break\n",
    "                    if not found:\n",
    "                        myNewList.append(innerList)\n",
    "    return myNewList"
   ]
  },
  {
   "cell_type": "code",
   "execution_count": 31,
   "metadata": {},
   "outputs": [
    {
     "name": "stdout",
     "output_type": "stream",
     "text": [
      "please enter a numbers : 4\n",
      "please enter a numbers : 4\n",
      "please enter a numbers : 5\n",
      "please enter a numbers : thgr\n",
      "please enter the value num\n",
      "please enter a numbers : ytr\n",
      "please enter the value num\n",
      "please enter a numbers : 5\n",
      "please enter a numbers : 8\n",
      "please enter a numbers : 5\n",
      "please enter a numbers : 10\n",
      "please enter a numbers : done\n",
      "Max :  10\n",
      "Min : 0\n"
     ]
    }
   ],
   "source": [
    "#Write a program that repeatedly prompts a user for integer numbers until the user enters 'done'. Once 'done' is entered, print out the largest and smallest of the numbers. If the user enters anything other than a valid number catch it with a try/except and put out an appropriate message and ignore the number. Enter 7, 2, istanbul, 10, and 4 and match the output below.\n",
    "Max = 0\n",
    "Min = 0\n",
    "while True:\n",
    "    try:\n",
    "        num = input(\"please enter a numbers : \")\n",
    "        if num == \"done\":\n",
    "            break\n",
    "        else:\n",
    "                num = int(num)\n",
    "                if num > Max:\n",
    "                    Max = num\n",
    "                elif num < Min:\n",
    "                    Min = num\n",
    "    except ValueError:\n",
    "        print(\"please enter the value num\")\n",
    "print(\"Max : \",Max)\n",
    "print(\"Min :\",Min)"
   ]
  },
  {
   "cell_type": "code",
   "execution_count": 32,
   "metadata": {},
   "outputs": [
    {
     "name": "stdout",
     "output_type": "stream",
     "text": [
      "{'w': 0, 'o': 1, 'r': 2, 'd': 3, ' ': 4, 'i': 5, 'n': 6}\n",
      "{'one': 1, 'two': 2, 'three': 3, 'w': 0, 'o': 1, 'r': 2, 'd': 3, ' ': 4, 'i': 5, 'n': 6}\n"
     ]
    }
   ],
   "source": [
    "my_dict_ex={}\n",
    "my_dict_ex01={\"one\":1,\"two\":2,\"three\":3}\n",
    "item=\"word in\"\n",
    "for i in range(len(item)) :\n",
    "    my_dict_ex[item[i]]=i\n",
    "    #my_dict_ex[item]=i\n",
    "print(my_dict_ex)\n",
    "my_dict_ex01.update(my_dict_ex)\n",
    "print(my_dict_ex01)"
   ]
  },
  {
   "cell_type": "code",
   "execution_count": 47,
   "metadata": {},
   "outputs": [
    {
     "name": "stdout",
     "output_type": "stream",
     "text": [
      "input your word gfffhbhjgvjshghjsfff\n",
      "{'G': 3, 'F': 6, 'H': 4, 'B': 1, 'J': 3, 'V': 1, 'S': 2}\n"
     ]
    }
   ],
   "source": [
    "mydict={}\n",
    "mystr=input(\"input your word \")\n",
    "mylist=[]\n",
    "mylist.extend(mystr)\n",
    "for i in mylist:\n",
    "        u=i[0].upper()\n",
    "        if u not in mydict:\n",
    "            mydict[u]=1\n",
    "        else:   \n",
    "            mydict[u]+=1  \n",
    "print(mydict)"
   ]
  },
  {
   "cell_type": "code",
   "execution_count": null,
   "metadata": {},
   "outputs": [],
   "source": []
  }
 ],
 "metadata": {
  "kernelspec": {
   "display_name": "Python 3",
   "language": "python",
   "name": "python3"
  },
  "language_info": {
   "codemirror_mode": {
    "name": "ipython",
    "version": 3
   },
   "file_extension": ".py",
   "mimetype": "text/x-python",
   "name": "python",
   "nbconvert_exporter": "python",
   "pygments_lexer": "ipython3",
   "version": "3.6.4"
  }
 },
 "nbformat": 4,
 "nbformat_minor": 2
}
