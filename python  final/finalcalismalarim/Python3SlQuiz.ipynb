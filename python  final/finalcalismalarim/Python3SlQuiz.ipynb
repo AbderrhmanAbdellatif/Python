{
 "cells": [
  {
   "cell_type": "code",
   "execution_count": 6,
   "metadata": {},
   "outputs": [
    {
     "name": "stdout",
     "output_type": "stream",
     "text": [
      "Is input 128 is a power of two?: True\n"
     ]
    }
   ],
   "source": [
    "sayi= 128 # try with different numbers\n",
    "ispoweroftwo= False\n",
    "\n",
    "if sayi%2 !=0: # if not even\n",
    "    ispoweroftwo= False\n",
    "else:\n",
    "    s= 1\n",
    "    while s<=sayi:\n",
    "        if s== sayi:\n",
    "            ispoweroftwo= True\n",
    "        s= s * 2\n",
    "print(\"Is input \"+ str(sayi)+ \" is a power of two?: \" +str(ispoweroftwo))"
   ]
  },
  {
   "cell_type": "code",
   "execution_count": 12,
   "metadata": {},
   "outputs": [
    {
     "name": "stdout",
     "output_type": "stream",
     "text": [
      " input your numbers 45\n",
      " output  54\n"
     ]
    }
   ],
   "source": [
    "num=input(\" input your numbers \")\n",
    "num=num[::-1]\n",
    "print(\" output \"  , int(num))"
   ]
  },
  {
   "cell_type": "code",
   "execution_count": null,
   "metadata": {},
   "outputs": [],
   "source": []
  }
 ],
 "metadata": {
  "kernelspec": {
   "display_name": "Python 3",
   "language": "python",
   "name": "python3"
  },
  "language_info": {
   "codemirror_mode": {
    "name": "ipython",
    "version": 3
   },
   "file_extension": ".py",
   "mimetype": "text/x-python",
   "name": "python",
   "nbconvert_exporter": "python",
   "pygments_lexer": "ipython3",
   "version": "3.6.4"
  }
 },
 "nbformat": 4,
 "nbformat_minor": 2
}
