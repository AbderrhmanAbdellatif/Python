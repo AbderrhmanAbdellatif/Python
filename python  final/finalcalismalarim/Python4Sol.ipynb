{
 "cells": [
  {
   "cell_type": "code",
   "execution_count": 1,
   "metadata": {},
   "outputs": [
    {
     "name": "stdout",
     "output_type": "stream",
     "text": [
      "[0, 2, 4, 6, 8, 10, 12, 14, 16, 18]\n"
     ]
    }
   ],
   "source": [
    "L= [x for x in range(20) if x%2==0 ]\n",
    "print(L)"
   ]
  },
  {
   "cell_type": "code",
   "execution_count": 8,
   "metadata": {},
   "outputs": [
    {
     "name": "stdout",
     "output_type": "stream",
     "text": [
      "['EVEN', 'ODD', 'EVEN', 'ODD', 'EVEN', 'ODD', 'EVEN', 'ODD', 'EVEN', 'ODD', 'EVEN', 'ODD', 'EVEN', 'ODD', 'EVEN', 'ODD', 'EVEN', 'ODD', 'EVEN', 'ODD']\n"
     ]
    }
   ],
   "source": [
    "L =[[\"EVEN\",\"ODD\"][i%2] for i in  range(20)]\n",
    "print(L)"
   ]
  },
  {
   "cell_type": "code",
   "execution_count": 9,
   "metadata": {},
   "outputs": [
    {
     "name": "stdout",
     "output_type": "stream",
     "text": [
      "['A', 'A', 'N', 'D', 'S']\n"
     ]
    }
   ],
   "source": [
    "L1= [\"ali\", \"ayşe\",\"nihan\",\"demet\",\"selim\"]\n",
    "L2= [x[0].upper() for x in  L1 ]\n",
    "print(L2)"
   ]
  },
  {
   "cell_type": "code",
   "execution_count": 10,
   "metadata": {},
   "outputs": [
    {
     "name": "stdout",
     "output_type": "stream",
     "text": [
      "['ax', 'ay', 'az', 'bx', 'by', 'bz', 'cx', 'cy', 'cz']\n"
     ]
    }
   ],
   "source": [
    "# Using the given two strings, create a list comprised of all 2-letter combinations of those strings.\n",
    "str1= \"abc\"\n",
    "str2= \"xyz\"\n",
    "L2= [ x+y for x in 'abc' for y in 'xyz']\n",
    "print(L2)"
   ]
  },
  {
   "cell_type": "code",
   "execution_count": 25,
   "metadata": {},
   "outputs": [
    {
     "name": "stdout",
     "output_type": "stream",
     "text": [
      "[1.0, 0.0, 0.0, 0.0, 0.0, 1.0, 1.0, 1.0, 1.0, 1.0, 1.0, 2.0, 4.0, 8.0, 16.0, 1.0, 3.0, 9.0, 27.0, 81.0, 1.0, 4.0, 16.0, 64.0, 256.0]\n"
     ]
    }
   ],
   "source": [
    "import math\n",
    "P=[ math.pow(x,y)  for x in range(5) for y in range(5)]\n",
    "print(P)"
   ]
  },
  {
   "cell_type": "code",
   "execution_count": null,
   "metadata": {},
   "outputs": [],
   "source": []
  }
 ],
 "metadata": {
  "kernelspec": {
   "display_name": "Python 3",
   "language": "python",
   "name": "python3"
  },
  "language_info": {
   "codemirror_mode": {
    "name": "ipython",
    "version": 3
   },
   "file_extension": ".py",
   "mimetype": "text/x-python",
   "name": "python",
   "nbconvert_exporter": "python",
   "pygments_lexer": "ipython3",
   "version": "3.6.4"
  }
 },
 "nbformat": 4,
 "nbformat_minor": 2
}
