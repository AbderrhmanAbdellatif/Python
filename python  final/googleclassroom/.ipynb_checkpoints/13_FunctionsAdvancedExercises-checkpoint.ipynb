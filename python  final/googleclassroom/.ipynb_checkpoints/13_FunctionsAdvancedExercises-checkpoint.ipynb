{
 "cells": [
  {
   "cell_type": "markdown",
   "metadata": {},
   "source": [
    "### Ex. 1 Write a function that accepts an arbitrary number of numbers in the form of positional or keyword arguments and returns the sum of that numbers. "
   ]
  },
  {
   "cell_type": "code",
   "execution_count": null,
   "metadata": {},
   "outputs": [],
   "source": [
    "def find_Max(*p, **k):\n",
    "    m= None\n",
    "    for i in p:\n",
    "        if m is None:\n",
    "            m= i\n",
    "        elif i> m:\n",
    "            m= i\n",
    "    for j in k.values():\n",
    "        if m is None:\n",
    "            m= j\n",
    "        elif j> m:\n",
    "            m= j\n",
    "    \n",
    "    return m"
   ]
  },
  {
   "cell_type": "code",
   "execution_count": null,
   "metadata": {},
   "outputs": [],
   "source": []
  },
  {
   "cell_type": "code",
   "execution_count": null,
   "metadata": {},
   "outputs": [],
   "source": [
    "find_Max(1,3,4,5,6, a=5, b= 'a')"
   ]
  },
  {
   "cell_type": "code",
   "execution_count": null,
   "metadata": {},
   "outputs": [],
   "source": [
    "print(a)"
   ]
  },
  {
   "cell_type": "code",
   "execution_count": null,
   "metadata": {
    "collapsed": true
   },
   "outputs": [],
   "source": []
  },
  {
   "cell_type": "code",
   "execution_count": 21,
   "metadata": {
    "collapsed": true
   },
   "outputs": [],
   "source": [
    "def find_sum(*pargs, **kwargs):\n",
    "    try:\n",
    "        sum= ''\n",
    "        for i in pargs:\n",
    "            sum= sum + i\n",
    "        for v in kwargs.values():\n",
    "            sum = sum + v\n",
    "    except:\n",
    "        print(\"Incompatible types\")\n",
    "        return None\n",
    "    return sum"
   ]
  },
  {
   "cell_type": "code",
   "execution_count": 22,
   "metadata": {},
   "outputs": [
    {
     "data": {
      "text/plain": [
       "'5154030'"
      ]
     },
     "execution_count": 22,
     "metadata": {},
     "output_type": "execute_result"
    }
   ],
   "source": [
    "find_sum('5','15',a='40', b= '30')"
   ]
  },
  {
   "cell_type": "markdown",
   "metadata": {},
   "source": [
    "### Ex. 2  Write a function that accepts an arbitrary number of numbers in the form of positional or keyword arguments and returns the maximum of that numbers. "
   ]
  },
  {
   "cell_type": "code",
   "execution_count": 3,
   "metadata": {},
   "outputs": [],
   "source": [
    "def find_max(*pargs, **kwargs):\n",
    "    try:\n",
    "        biggest= max(max(pargs),max(kwargs)) \n",
    "    except:\n",
    "        print(\"Incomparable types\")\n",
    "        return None\n",
    "    return biggest"
   ]
  },
  {
   "cell_type": "code",
   "execution_count": 4,
   "metadata": {},
   "outputs": [
    {
     "name": "stdout",
     "output_type": "stream",
     "text": [
      "Incomparable types\n"
     ]
    }
   ],
   "source": [
    "find_max(5,15,a=40, b= 30)"
   ]
  },
  {
   "cell_type": "markdown",
   "metadata": {},
   "source": [
    "### Ex. 3  Write a function that accepts an arbitrary number of comparable objects and returns the maximum. ( In python, every object type supports comparisons, we don’t have to specialize the function per type)"
   ]
  },
  {
   "cell_type": "code",
   "execution_count": 37,
   "metadata": {
    "collapsed": true
   },
   "outputs": [],
   "source": [
    "def find_max2(*args):\n",
    "    try:\n",
    "        return max(args) \n",
    "    except:\n",
    "        print(\"Incomparable types\")\n",
    "        return None"
   ]
  },
  {
   "cell_type": "code",
   "execution_count": 39,
   "metadata": {},
   "outputs": [
    {
     "data": {
      "text/plain": [
       "[40, 80]"
      ]
     },
     "execution_count": 39,
     "metadata": {},
     "output_type": "execute_result"
    }
   ],
   "source": [
    "find_max2([5,15],[40,80])"
   ]
  },
  {
   "cell_type": "markdown",
   "metadata": {},
   "source": [
    "### Ex. 4  Write a function that accepts an arbitrary number of comparable objects and returns the maximum. ( In python, every object type supports comparisons, we don’t have to specialize the function per type)"
   ]
  },
  {
   "cell_type": "code",
   "execution_count": 40,
   "metadata": {
    "collapsed": true
   },
   "outputs": [],
   "source": [
    "def find_max3(first, *rest):\n",
    "    for arg in rest:\n",
    "        if arg > first:\n",
    "            first = arg\n",
    "    return first"
   ]
  },
  {
   "cell_type": "code",
   "execution_count": 41,
   "metadata": {},
   "outputs": [
    {
     "data": {
      "text/plain": [
       "[40, 80]"
      ]
     },
     "execution_count": 41,
     "metadata": {},
     "output_type": "execute_result"
    }
   ],
   "source": [
    "find_max3([5,15],[40,80])"
   ]
  },
  {
   "cell_type": "markdown",
   "metadata": {},
   "source": [
    "### Ex.5 Implement a function named \"minmax\" that works as the built-in eval function"
   ]
  },
  {
   "cell_type": "code",
   "execution_count": 45,
   "metadata": {},
   "outputs": [
    {
     "name": "stdout",
     "output_type": "stream",
     "text": [
      "1\n",
      "6\n"
     ]
    }
   ],
   "source": [
    "print(minmax(lessthan, 4, 2, 1, 5, 6, 3))     \n",
    "print(minmax(grtrthan, 4, 2, 1, 5, 6, 3))"
   ]
  },
  {
   "cell_type": "code",
   "execution_count": 46,
   "metadata": {},
   "outputs": [],
   "source": [
    "def minmax(test, *args):\n",
    "    res = args[0]\n",
    "    for arg in args[1:]:\n",
    "        if test(arg, res):\n",
    "            res = arg\n",
    "    return res\n",
    "\n",
    "def lessthan(x, y): return x < y                # See also: lambda\n",
    "def grtrthan(x, y): return x > y"
   ]
  },
  {
   "cell_type": "markdown",
   "metadata": {},
   "source": [
    "### Ex.6 Handling arbitrarily nested sublists. Find the sum of elements in a nested list like the one shown below.\n",
    "Note that simple looping statements won’t work here because this is not a linear iteration!\n",
    "\n",
    "[1, [2, [3, 4], 5], 6, [7, 8]] # "
   ]
  },
  {
   "cell_type": "code",
   "execution_count": 1,
   "metadata": {
    "collapsed": true
   },
   "outputs": [],
   "source": [
    "def sumtree(L):\n",
    "    tot = 0\n",
    "    for x in L: # For each item at this level\n",
    "        if not isinstance(x, list):\n",
    "            tot += x # Add numbers directly\n",
    "        else:\n",
    "            tot += sumtree(x) # Recur for sublists\n",
    "    return tot"
   ]
  },
  {
   "cell_type": "code",
   "execution_count": 2,
   "metadata": {},
   "outputs": [
    {
     "name": "stdout",
     "output_type": "stream",
     "text": [
      "36\n"
     ]
    }
   ],
   "source": [
    "L = [1, [2, [3, 4], 5], 6, [7, 8]] # Arbitrary nesting\n",
    "print(sumtree(L))"
   ]
  },
  {
   "cell_type": "markdown",
   "metadata": {
    "collapsed": true
   },
   "source": [
    "### Alternative solution: Without recursion! \n",
    "The following computes the same sums as the prior example, but uses an\n",
    "explicit list to schedule when it will visit items in the subject, instead of issuing recursive\n",
    "calls; the item at the front of the list is always the next to be processed and summed:"
   ]
  },
  {
   "cell_type": "code",
   "execution_count": 8,
   "metadata": {
    "collapsed": true
   },
   "outputs": [],
   "source": [
    "def sumtree2(L): # Breadth-first, explicit queue\n",
    "    tot = 0\n",
    "    items = list(L) # Start with copy of top level\n",
    "    while items:\n",
    "        front = items.pop(0) # Fetch/delete front item\n",
    "        if not isinstance(front, list):\n",
    "            tot += front # Add numbers directly\n",
    "        else:\n",
    "            items.extend(front) # <== Append all in nested list\n",
    "    return tot"
   ]
  },
  {
   "cell_type": "code",
   "execution_count": 9,
   "metadata": {},
   "outputs": [
    {
     "name": "stdout",
     "output_type": "stream",
     "text": [
      "36\n"
     ]
    }
   ],
   "source": [
    "L = [1, [2, [3, 4], 5], 6, [7, 8]] # Arbitrary nesting\n",
    "print(sumtree2(L))"
   ]
  },
  {
   "cell_type": "markdown",
   "metadata": {},
   "source": [
    "### Alternative solution2: Without recursion! "
   ]
  },
  {
   "cell_type": "code",
   "execution_count": null,
   "metadata": {
    "collapsed": true
   },
   "outputs": [],
   "source": [
    "def sumtree(L): # Depth-first, explicit stack\n",
    "    tot = 0\n",
    "    items = list(L) # Start with copy of top level\n",
    "    while items:\n",
    "        front = items.pop(0) # Fetch/delete front item\n",
    "        if not isinstance(front, list):\n",
    "            tot += front # Add numbers directly\n",
    "        else:\n",
    "            items[:0] = front # <== Prepend all in nested list\n",
    "    return tot"
   ]
  }
 ],
 "metadata": {
  "kernelspec": {
   "display_name": "Python 3",
   "language": "python",
   "name": "python3"
  }
 },
 "nbformat": 4,
 "nbformat_minor": 2
}
