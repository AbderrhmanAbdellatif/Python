{
 "cells": [
  {
   "cell_type": "markdown",
   "metadata": {},
   "source": [
    "<h2 style='padding: 5px'>Scores</h2><table class='table table-striped'> <thead>\n",
    "<tr> <th>Q1</th> <th>Q2</th> <th>Q3</th> <th>Q4</th> <th>Q5</th> <th>Q6</th> <th>Total</th> </tr> \n",
    "<tr> <th>...</th> <th>...</th> <th>...</th> <th>...</th> <th>...</th> <th>...</th> <th>...</th> </tr> </thead> <tbody> \n",
    "</thead> <tbody> \n",
    "\n"
   ]
  },
  {
   "cell_type": "markdown",
   "metadata": {},
   "source": [
    "### Question 1_Strings [10p]"
   ]
  },
  {
   "cell_type": "markdown",
   "metadata": {},
   "source": [
    "Implement the following function that takes a string and returns a new string with every character doubled. \n",
    "(Verilen bir stringdeki herbir karakterin çift halinden oluşan yeni bir string döndüren fonksiyonu yazınız)\n",
    "\n",
    "Example: \n",
    "double_char('The') # → 'TThhee'\n",
    "double_char('1Ab') # → '11AAbb'\n",
    "\n",
    "Evaluation criteria:\n",
    "    * returns a string each character doubled - full score\n",
    "    * returns a list each character doubled - 50% "
   ]
  },
  {
   "cell_type": "code",
   "execution_count": 94,
   "metadata": {},
   "outputs": [],
   "source": [
    "# Answer 1: SOLVE HERE:\n",
    "def double_char(s):\n",
    "    return  \"\".join([x*2 for x in s])"
   ]
  },
  {
   "cell_type": "code",
   "execution_count": 95,
   "metadata": {},
   "outputs": [
    {
     "data": {
      "text/plain": [
       "'11AAbb'"
      ]
     },
     "execution_count": 95,
     "metadata": {},
     "output_type": "execute_result"
    }
   ],
   "source": [
    "# Answer 1 TRY HERE:\n",
    "double_char(\"1Ab\")"
   ]
  },
  {
   "cell_type": "markdown",
   "metadata": {},
   "source": [
    "### Question 2 List comprehensions [25p: 10+5+10]"
   ]
  },
  {
   "cell_type": "markdown",
   "metadata": {},
   "source": [
    "a) Generate the following 2-dimensional array \n",
    "(Aşağıdaki iki boyutlu listeyi oluşturan ifadeyi yazınız)\n",
    "\n",
    "[[0, 0, 0, 0, 0, 0],\n",
    " [0, 1, 2, 3, 4, 5],\n",
    " [0, 2, 4, 6, 8, 10],\n",
    " [0, 3, 6, 9, 12, 15],\n",
    " [0, 4, 8, 12, 16, 20]]"
   ]
  },
  {
   "cell_type": "code",
   "execution_count": 96,
   "metadata": {},
   "outputs": [
    {
     "name": "stdout",
     "output_type": "stream",
     "text": [
      "[[0, 0, 0, 0, 0, 0], [0, 1, 2, 3, 4, 5], [0, 2, 4, 6, 8, 10], [0, 3, 6, 9, 12, 15], [0, 4, 8, 12, 16, 20]]\n"
     ]
    }
   ],
   "source": [
    "# Answer 2_a) SOLVE HERE:\n",
    "L=[[x*y for x in range(6)] for y in range(5)]\n",
    "print(L)"
   ]
  },
  {
   "cell_type": "markdown",
   "metadata": {
    "collapsed": true
   },
   "source": [
    "b) Generate a list of numbers which are divisible by 7 but are not a multiple of 5, between 2000 and 2100 (both included).\n",
    "(2000 ile 2100 arasında 7 ile bölünebilen ama 5'in katı olmayan sayılardan oluşan listeyi oluşturan ifadeyi yazınız)"
   ]
  },
  {
   "cell_type": "code",
   "execution_count": 97,
   "metadata": {},
   "outputs": [
    {
     "name": "stdout",
     "output_type": "stream",
     "text": [
      "[2002, 2009, 2016, 2023, 2037, 2044, 2051, 2058, 2072, 2079, 2086, 2093]\n"
     ]
    }
   ],
   "source": [
    "# Answer 2_b) SOLVE HERE:\n",
    "L=[x for x in range(2000,2100) if x%7==0 and x%5!=0]\n",
    "print(L)"
   ]
  },
  {
   "cell_type": "markdown",
   "metadata": {},
   "source": [
    "c) Flatten the given nested list: (Aşağıdaki gibi en fazla 2 seviye derinlikte verilen iç içe bir listeden tek seviye bir liste oluşturan ifadeyi yazınız)"
   ]
  },
  {
   "cell_type": "code",
   "execution_count": 35,
   "metadata": {},
   "outputs": [],
   "source": [
    "my_list = [[1,2,3],[4,5,6],[7,8]] # you should create [1, 2, 3, 4, 5, 6, 7, 8]"
   ]
  },
  {
   "cell_type": "code",
   "execution_count": 98,
   "metadata": {},
   "outputs": [
    {
     "name": "stdout",
     "output_type": "stream",
     "text": [
      "[1, 2, 3, 4, 5, 6, 7, 8]\n"
     ]
    }
   ],
   "source": [
    "# Answer 2_c) SOLVE HERE\n",
    "L=[o for i in my_list for o in i ]\n",
    "print(L)"
   ]
  },
  {
   "cell_type": "markdown",
   "metadata": {},
   "source": [
    "### Question 3_Function for prime check [10p]"
   ]
  },
  {
   "cell_type": "markdown",
   "metadata": {},
   "source": [
    "Write a Python function that takes a number as a parameter and checks if the number is prime or not. The function should return a boolean value\n",
    "(Verilen bir sayının asal sayı olup olmadığını bulan bir fonksiyon yazınız, fonksiyon boolean ifade döndürmelidir. Asal sayı 1 ve kendisinden başka tam böleni olmayan sayıdır.)\n",
    "\n",
    "Note : A prime number (or a prime) is a natural number greater than 1 and that has no positive divisors other than 1 and itself."
   ]
  },
  {
   "cell_type": "code",
   "execution_count": 45,
   "metadata": {},
   "outputs": [],
   "source": [
    "def test_prime(n):\n",
    "    for i in range(2,int(n**0.5)+1):\n",
    "        if n%i==0:\n",
    "            return False\n",
    "\n",
    "    return True"
   ]
  },
  {
   "cell_type": "code",
   "execution_count": 48,
   "metadata": {},
   "outputs": [
    {
     "name": "stdout",
     "output_type": "stream",
     "text": [
      "False\n"
     ]
    }
   ],
   "source": [
    "# Answer 3 TRY HERE:\n",
    "print(test_prime(22))"
   ]
  },
  {
   "cell_type": "markdown",
   "metadata": {},
   "source": [
    "### Question 4_Create dictionary from txt file [20p: 10+ 10]"
   ]
  },
  {
   "cell_type": "markdown",
   "metadata": {},
   "source": [
    "a) Open the file lyrics.txt and read it line by line. For each line, split the line into a list of words using the split() method. Then create a dictionary with keys equal to the words in the txt file and the values equal to the frequency of each word ignoring the case. \n",
    "Print each word and its frequency using this dictionary. \n",
    "(lyrics.txt dosyasını açıp satır satır okuyumuz. Her bir satırdaki kelimeleri split fonksiyonu ile ayırabilirsiniz. Bu text dosyasındaki her bir kelimenin anahtarı, bu kelimenin kaç kere geçtiğinin ise değeri olduğu bir \"dictionary\" yapısı oluşturunuz, ekrana yazdırınız)"
   ]
  },
  {
   "cell_type": "code",
   "execution_count": 67,
   "metadata": {},
   "outputs": [
    {
     "name": "stdout",
     "output_type": "stream",
     "text": [
      "{'Every': 1, 'night': 1, 'in': 2, 'my': 4, 'dreams': 1, 'I': 7, 'see': 1, 'you,': 3, 'feel': 1, 'you': 6, 'That': 1, 'is': 1, 'how': 1, 'know': 1, 'go': 7, 'on': 7, 'Far': 1, 'across': 1, 'the': 4, 'distance': 1, 'And': 4, 'spaces': 1, 'between': 1, 'us': 2, 'You': 1, 'have': 1, 'come': 1, 'to': 1, 'show': 1, 'Near,': 2, 'far,': 2, 'wherever': 2, 'are': 2, 'believe': 2, 'that': 2, 'heart': 4, 'does': 2, 'Once': 2, 'more': 2, 'open': 1, 'door': 1, \"you're\": 1, 'here': 1, 'and': 2, 'will': 1, 'Love': 2, 'can': 1, 'touch': 1, 'one': 1, 'time': 2, 'last': 1, 'for': 1, 'a': 1, 'lifetime': 1, 'never': 1, 'let': 1, 'till': 1, \"we're\": 1, 'gone': 1, 'was': 1, 'when': 1, 'loved': 1, 'One': 1, 'true': 1, 'hold': 1, 'In': 1, 'life': 1, \"we'll\": 1, 'always': 1}\n"
     ]
    }
   ],
   "source": [
    "# Answer 4_a) SOLVE HERE\n",
    "fp=open(\"lyrics .txt\")\n",
    "mydict={}\n",
    "mylist=[]\n",
    "for i in fp:\n",
    "    mylist.extend(i.split())\n",
    "for x  in mylist:\n",
    "    #item=x[0].upper()\n",
    "    x.upper()\n",
    "    if x not in mydict:\n",
    "        mydict[x]=1\n",
    "    else:\n",
    "        mydict[x]+=1\n",
    "print(mydict)        "
   ]
  },
  {
   "cell_type": "markdown",
   "metadata": {},
   "source": [
    "b) What is the most frequently used word? (En çok kullanılan kelime hangisidir?)"
   ]
  },
  {
   "cell_type": "code",
   "execution_count": 88,
   "metadata": {},
   "outputs": [
    {
     "name": "stdout",
     "output_type": "stream",
     "text": [
      "I\n",
      "go\n",
      "on\n"
     ]
    }
   ],
   "source": [
    "# Answer 4_b) SOLVE HERE\n",
    "Max=0\n",
    "for i,j in mydict.items():\n",
    "    if Max < j :\n",
    "        Max=j\n",
    "for i,j in mydict.items():\n",
    "    if j==Max:\n",
    "        print(i)"
   ]
  },
  {
   "cell_type": "markdown",
   "metadata": {},
   "source": [
    "### Question 5 [15p]"
   ]
  },
  {
   "cell_type": "markdown",
   "metadata": {},
   "source": [
    "Implement the function \"find_Max\" that accepts an arbitrary number of numbers in the form of positional or keyword arguments and returns the maximum of that numbers.  (Aşağıdaki fonksiyonu yazınız. Bu fonksiyon rastgele sayıda ve rastgele şekilde, konum ile ya da anahtar ile, gönderilen sayıların en büyüğünü döndürmektedir)\n",
    "\n",
    "find_Max(5,15) # --> 15\n",
    "find_Max(40, a=10, b=2) # --> 40\n",
    "find_Max(40, a=10, b=2, s=\"55\" ) # --> Incompatible types\n",
    "find_Max() # --> None\n",
    "\n",
    "Evaluation criteria:\n",
    "* If the function works correctly for all types of inputs: full score\n",
    "* If the function works on numeric positional and keyword arguments: 80% full score\n",
    "* If the function works on numeric positional arguments: 50%\n",
    "* If the function works on numeric keyword arguments: 50%"
   ]
  },
  {
   "cell_type": "code",
   "execution_count": 90,
   "metadata": {},
   "outputs": [],
   "source": [
    "# Answer 5 SOLVE HERE:\n",
    "def find_Max(*p, **k):\n",
    "    try:\n",
    "        max1 = None\n",
    "        for x in p:\n",
    "            if(max1 == None):\n",
    "                max1 = x\n",
    "            else :\n",
    "                if(x>max1):\n",
    "                    max1 = x\n",
    "        \n",
    "        for y in k.values():\n",
    "            if(max1 == None):\n",
    "                max1 = y\n",
    "            else:\n",
    "                if(y>max1):\n",
    "                    max1 = y \n",
    "        return max1\n",
    "                \n",
    "    except:\n",
    "        return \"Geçersiz\"\n",
    "    "
   ]
  },
  {
   "cell_type": "code",
   "execution_count": 91,
   "metadata": {},
   "outputs": [
    {
     "data": {
      "text/plain": [
       "'Geçersiz'"
      ]
     },
     "execution_count": 91,
     "metadata": {},
     "output_type": "execute_result"
    }
   ],
   "source": [
    "# Answer 5 TRY HERE:\n",
    "find_Max(8,2,a=1,b=3,c=6,f=\"abc\")\n",
    "\n"
   ]
  },
  {
   "cell_type": "markdown",
   "metadata": {},
   "source": [
    "### Question 6 [20p:10+10]"
   ]
  },
  {
   "cell_type": "markdown",
   "metadata": {},
   "source": [
    "a) Inplement a function that returns the sum of elements in a given nested list like the one shown below.\n",
    "[1, [2, [3, 4], 5], 6, [7, 8]] \n",
    "(Aşağıdaki gibi \"rastgele\" derinlikte verilen, sadece sayılardan oluşan bir listenin elemanlarının toplamını bulan fonksiyon yazınız)"
   ]
  },
  {
   "cell_type": "code",
   "execution_count": 92,
   "metadata": {},
   "outputs": [],
   "source": [
    "# Answer 6_a) SOLVE HERE:\n",
    "def sum_arbitraryShapeList(liste):\n",
    "    toplam = 0\n",
    "    for i in liste:\n",
    "        if isinstance(i, list):\n",
    "            toplam += sum_arbitraryShapeList(i)\n",
    "        else:\n",
    "            toplam += i\n",
    "\n",
    "    return toplam"
   ]
  },
  {
   "cell_type": "code",
   "execution_count": 93,
   "metadata": {},
   "outputs": [
    {
     "data": {
      "text/plain": [
       "36"
      ]
     },
     "execution_count": 93,
     "metadata": {},
     "output_type": "execute_result"
    }
   ],
   "source": [
    "# Answer 6_a TRY HERE:\n",
    "sum_arbitraryShapeList([1, [2, [3, 4], 5], 6, [7, 8]])\n"
   ]
  },
  {
   "cell_type": "markdown",
   "metadata": {},
   "source": [
    "b) Inplement a function that returns the number of levels in a given nested list like the one shown below.\n",
    "(Verilen bir listenin en fazla kaç seviye derinliği olduğunu bulan bir fonksiyon yazınız)\n",
    "[1, [2, [3, 4], 5], 6, [7, 8]] \n",
    "In this list, level 1 elements: \n",
    "1\n",
    "[2, [3, 4], 5]\n",
    "6\n",
    "[7, 8]\n",
    "Level 2 elements:\n",
    "2\n",
    "[3,4]\n",
    "5\n",
    "7\n",
    "8\n",
    "Level 3 elements:\n",
    "3\n",
    "4\n",
    "No more levels, so the list has at most 3 levels!"
   ]
  },
  {
   "cell_type": "code",
   "execution_count": null,
   "metadata": {
    "collapsed": true
   },
   "outputs": [],
   "source": [
    "# Answer 6_b) SOLVE HERE:\n",
    "def findDepth():\n",
    "    \n",
    "    \n",
    "    \n",
    "    \n",
    "    \n",
    "    \n",
    "    return None"
   ]
  },
  {
   "cell_type": "code",
   "execution_count": null,
   "metadata": {
    "collapsed": true
   },
   "outputs": [],
   "source": [
    "# Answer 6_b TRY HERE:\n",
    "\n"
   ]
  }
 ],
 "metadata": {
  "kernelspec": {
   "display_name": "Python 3",
   "language": "python",
   "name": "python3"
  },
  "language_info": {
   "codemirror_mode": {
    "name": "ipython",
    "version": 3
   },
   "file_extension": ".py",
   "mimetype": "text/x-python",
   "name": "python",
   "nbconvert_exporter": "python",
   "pygments_lexer": "ipython3",
   "version": "3.6.4"
  }
 },
 "nbformat": 4,
 "nbformat_minor": 2
}
