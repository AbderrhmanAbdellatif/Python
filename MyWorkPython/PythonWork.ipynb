{
 "cells": [
  {
   "cell_type": "code",
   "execution_count": 3,
   "metadata": {},
   "outputs": [
    {
     "name": "stdout",
     "output_type": "stream",
     "text": [
      "Kibana \n",
      "\n",
      "data model entity \n",
      "\n",
      "lattitude longitude centroid \n",
      "\n",
      "elastik search \n",
      "\n",
      "kibana map widgets \n",
      "\n",
      "data CSV \n",
      "\n"
     ]
    }
   ],
   "source": [
    "try:\n",
    "    dosya=open(\"muhim.txt\")  \n",
    "    for i in dosya:\n",
    "        print(i)\n",
    "except FileNotFoundError:\n",
    "      print(\"dosya bulunmadi\")"
   ]
  },
  {
   "cell_type": "code",
   "execution_count": null,
   "metadata": {},
   "outputs": [],
   "source": []
  }
 ],
 "metadata": {
  "kernelspec": {
   "display_name": "Python 3",
   "language": "python",
   "name": "python3"
  },
  "language_info": {
   "codemirror_mode": {
    "name": "ipython",
    "version": 3
   },
   "file_extension": ".py",
   "mimetype": "text/x-python",
   "name": "python",
   "nbconvert_exporter": "python",
   "pygments_lexer": "ipython3",
   "version": "3.6.4"
  }
 },
 "nbformat": 4,
 "nbformat_minor": 2
}
