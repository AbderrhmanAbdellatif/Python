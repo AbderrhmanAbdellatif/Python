{
 "cells": [
  {
   "cell_type": "code",
   "execution_count": 1,
   "metadata": {},
   "outputs": [
    {
     "name": "stdout",
     "output_type": "stream",
     "text": [
      "['Arise', 'But', 'It', 'Juliet', 'Who', 'already', 'and', 'breaks', 'east', 'envious', 'fair', 'grief', 'is', 'kill', 'light', 'moon', 'pale', 'sick', 'soft', 'sun', 'the', 'through', 'what', 'window', 'with', 'yonder']\n"
     ]
    }
   ],
   "source": [
    "file=open(\"romeo.txt\")\n",
    "my_list=[]\n",
    "for i in file:\n",
    "    item=i.split()\n",
    "    for k in item:\n",
    "        if k not in my_list:\n",
    "            my_list.append(k)\n",
    "my_list.sort()            \n",
    "print(my_list)        "
   ]
  },
  {
   "cell_type": "code",
   "execution_count": 2,
   "metadata": {},
   "outputs": [
    {
     "data": {
      "text/plain": [
       "{'A': 3,\n",
       " 'B': 2,\n",
       " 'E': 2,\n",
       " 'F': 1,\n",
       " 'G': 1,\n",
       " 'I': 2,\n",
       " 'J': 1,\n",
       " 'K': 1,\n",
       " 'L': 1,\n",
       " 'M': 1,\n",
       " 'P': 1,\n",
       " 'S': 3,\n",
       " 'T': 2,\n",
       " 'W': 4,\n",
       " 'Y': 1}"
      ]
     },
     "execution_count": 2,
     "metadata": {},
     "output_type": "execute_result"
    }
   ],
   "source": [
    "my_dict={}\n",
    "for item  in my_list:\n",
    "        kelime=item[0]\n",
    "        x=kelime.upper()\n",
    "        if x in my_dict:\n",
    "             my_dict[x]+=1\n",
    "        else: \n",
    "             my_dict[x]=1\n",
    "my_dict            "
   ]
  },
  {
   "cell_type": "code",
   "execution_count": 25,
   "metadata": {},
   "outputs": [],
   "source": [
    "my_file=open(\"mbox-short.txt\")\n",
    "my_list_ex=[]\n",
    "my_list_ex1=[]\n",
    "for item in my_file:\n",
    "    my_list_ex.append(item.split(\" \"))\n",
    "#my_list_ex\n"
   ]
  },
  {
   "cell_type": "code",
   "execution_count": null,
   "metadata": {},
   "outputs": [],
   "source": [
    "item=\"word in\"\n",
    "for i in item :\n",
    "    "
   ]
  }
 ],
 "metadata": {
  "kernelspec": {
   "display_name": "Python 3",
   "language": "python",
   "name": "python3"
  },
  "language_info": {
   "codemirror_mode": {
    "name": "ipython",
    "version": 3
   },
   "file_extension": ".py",
   "mimetype": "text/x-python",
   "name": "python",
   "nbconvert_exporter": "python",
   "pygments_lexer": "ipython3",
   "version": "3.6.4"
  }
 },
 "nbformat": 4,
 "nbformat_minor": 2
}
