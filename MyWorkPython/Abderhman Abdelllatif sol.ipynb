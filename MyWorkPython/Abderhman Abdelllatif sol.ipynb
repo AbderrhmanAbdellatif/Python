{
 "cells": [
  {
   "cell_type": "markdown",
   "metadata": {},
   "source": [
    "<h2 style='padding: 5px'>Scores</h2><table class='table table-striped'> <thead>\n",
    "<tr> <th>Q1</th> <th>Q2</th> <th>Q3</th> <th>Q4</th> <th>Q5</th> <th>Q6</th> <th>Total</th> </tr> \n",
    "<tr> <th>...</th> <th>...</th> <th>...</th> <th>...</th> <th>...</th> <th>...</th> <th>...</th> </tr> </thead> <tbody> \n",
    "</thead> <tbody> \n",
    "\n"
   ]
  },
  {
   "cell_type": "markdown",
   "metadata": {},
   "source": [
    "### Question 1_Strings [10p]"
   ]
  },
  {
   "cell_type": "markdown",
   "metadata": {},
   "source": [
    "Implement the following function that takes a string and returns a new string with every character doubled. \n",
    "(Verilen bir stringdeki herbir karakterin çift halinden oluşan yeni bir string döndüren fonksiyonu yazınız)\n",
    "\n",
    "Example: \n",
    "double_char('The') # → 'TThhee'\n",
    "double_char('1Ab') # → '11AAbb'\n",
    "\n",
    "Evaluation criteria:\n",
    "    * returns a string each character doubled - full score\n",
    "    * returns a list each character doubled - 50% "
   ]
  },
  {
   "cell_type": "code",
   "execution_count": 18,
   "metadata": {},
   "outputs": [],
   "source": [
    "def double_char(s):\n",
    "    result = ''\n",
    "    for char in s:\n",
    "        result += char * 2\n",
    "    return result"
   ]
  },
  {
   "cell_type": "code",
   "execution_count": 19,
   "metadata": {},
   "outputs": [
    {
     "name": "stdout",
     "output_type": "stream",
     "text": [
      "11AAbb\n"
     ]
    }
   ],
   "source": [
    "# Answer 1 TRY HERE:\n",
    "print(double_char('1Ab'))"
   ]
  },
  {
   "cell_type": "markdown",
   "metadata": {},
   "source": [
    "### Question 2 List comprehensions [25p: 10+5+10]"
   ]
  },
  {
   "cell_type": "markdown",
   "metadata": {},
   "source": [
    "a) Generate the following 2-dimensional array \n",
    "(Aşağıdaki iki boyutlu listeyi oluşturan ifadeyi yazınız)\n",
    "\n",
    "[[0, 0, 0, 0, 0, 0],\n",
    " [0, 1, 2, 3, 4, 5],\n",
    " [0, 2, 4, 6, 8, 10],\n",
    " [0, 3, 6, 9, 12, 15],\n",
    " [0, 4, 8, 12, 16, 20]]"
   ]
  },
  {
   "cell_type": "code",
   "execution_count": 1,
   "metadata": {},
   "outputs": [
    {
     "name": "stdout",
     "output_type": "stream",
     "text": [
      "[[0, 0, 0, 0, 0], [0, 1, 2, 3, 4], [0, 2, 4, 6, 8], [0, 3, 6, 9, 12], [0, 4, 8, 12, 16]]\n"
     ]
    }
   ],
   "source": [
    "# Answer 2_a) SOLVE HERE:\n",
    "b = [[i*j for j in range(5)]for i in range(5)]\n",
    "print(b)\n",
    "\n"
   ]
  },
  {
   "cell_type": "markdown",
   "metadata": {
    "collapsed": true
   },
   "source": [
    "b) Generate a list of numbers which are divisible by 7 but are not a multiple of 5, between 2000 and 2100 (both included).\n",
    "(2000 ile 2100 arasında 7 ile bölünebilen ama 5'in katı olmayan sayılardan oluşan listeyi oluşturan ifadeyi yazınız)"
   ]
  },
  {
   "cell_type": "code",
   "execution_count": 16,
   "metadata": {},
   "outputs": [
    {
     "data": {
      "text/plain": [
       "[2002, 2009, 2016, 2023, 2037, 2044, 2051, 2058, 2072, 2079, 2086, 2093]"
      ]
     },
     "execution_count": 16,
     "metadata": {},
     "output_type": "execute_result"
    }
   ],
   "source": [
    "# Answer 2_b) SOLVE HERE:\n",
    "l=[x for x in range(2000,2100) if x%7==0 and x%5!=0]\n",
    "l"
   ]
  },
  {
   "cell_type": "markdown",
   "metadata": {},
   "source": [
    "c) Flatten the given nested list: (Aşağıdaki gibi en fazla 2 seviye derinlikte verilen iç içe bir listeden tek seviye bir liste oluşturan ifadeyi yazınız)"
   ]
  },
  {
   "cell_type": "code",
   "execution_count": 55,
   "metadata": {},
   "outputs": [],
   "source": [
    "my_list = [[1,2,3],[4,5,6],[7,8]] # you should create [1, 2, 3, 4, 5, 6, 7, 8]"
   ]
  },
  {
   "cell_type": "code",
   "execution_count": 56,
   "metadata": {},
   "outputs": [
    {
     "data": {
      "text/plain": [
       "[1, 2, 3, 4, 5, 6, 7, 8]"
      ]
     },
     "execution_count": 56,
     "metadata": {},
     "output_type": "execute_result"
    }
   ],
   "source": [
    "# Answer 2_c) SOLVE HERE\n",
    "l=[num for item in my_list for num in (item if isinstance(item, list) else (item,))]\n",
    "l"
   ]
  },
  {
   "cell_type": "markdown",
   "metadata": {},
   "source": [
    "### Question 3_Function for prime check [10p]"
   ]
  },
  {
   "cell_type": "markdown",
   "metadata": {},
   "source": [
    "Write a Python function that takes a number as a parameter and checks if the number is prime or not. The function should return a boolean value\n",
    "(Verilen bir sayının asal sayı olup olmadığını bulan bir fonksiyon yazınız, fonksiyon boolean ifade döndürmelidir. Asal sayı 1 ve kendisinden başka tam böleni olmayan sayıdır.)\n",
    "\n",
    "Note : A prime number (or a prime) is a natural number greater than 1 and that has no positive divisors other than 1 and itself."
   ]
  },
  {
   "cell_type": "code",
   "execution_count": 50,
   "metadata": {},
   "outputs": [],
   "source": [
    "# Answer 3 SOLVE HERE\n",
    "def test_Prime(n):\n",
    "    for i in range(2,int(n**0.5)+1):\n",
    "        if n%i==0:\n",
    "            return False\n",
    "\n",
    "    return True\n"
   ]
  },
  {
   "cell_type": "code",
   "execution_count": 18,
   "metadata": {},
   "outputs": [
    {
     "name": "stdout",
     "output_type": "stream",
     "text": [
      "True\n"
     ]
    }
   ],
   "source": [
    "# Answer 3 TRY HERE:\n",
    "print(test_Prime(19))"
   ]
  },
  {
   "cell_type": "markdown",
   "metadata": {},
   "source": [
    "### Question 4_Create dictionary from txt file [20p: 10+ 10]"
   ]
  },
  {
   "cell_type": "markdown",
   "metadata": {},
   "source": [
    "a) Open the file lyrics.txt and read it line by line. For each line, split the line into a list of words using the split() method. Then create a dictionary with keys equal to the words in the txt file and the values equal to the frequency of each word ignoring the case. \n",
    "Print each word and its frequency using this dictionary. \n",
    "(lyrics.txt dosyasını açıp satır satır okuyumuz. Her bir satırdaki kelimeleri split fonksiyonu ile ayırabilirsiniz. Bu text dosyasındaki her bir kelimenin anahtarı, bu kelimenin kaç kere geçtiğinin ise değeri olduğu bir \"dictionary\" yapısı oluşturunuz, ekrana yazdırınız)"
   ]
  },
  {
   "cell_type": "code",
   "execution_count": 21,
   "metadata": {},
   "outputs": [
    {
     "name": "stdout",
     "output_type": "stream",
     "text": [
      "{'Every': 1, 'night': 1, 'in': 2, 'my': 4, 'dreams': 1, 'I': 7, 'see': 1, 'you,': 3, 'feel': 1, 'you': 6, 'That': 1, 'is': 1, 'how': 1, 'know': 1, 'go': 7, 'on': 7, 'Far': 1, 'across': 1, 'the': 4, 'distance': 1, 'And': 4, 'spaces': 1, 'between': 1, 'us': 2, 'You': 1, 'have': 1, 'come': 1, 'to': 1, 'show': 1, 'Near,': 2, 'far,': 2, 'wherever': 2, 'are': 2, 'believe': 2, 'that': 2, 'heart': 4, 'does': 2, 'Once': 2, 'more': 2, 'open': 1, 'door': 1, \"you're\": 1, 'here': 1, 'and': 2, 'will': 1, 'Love': 2, 'can': 1, 'touch': 1, 'one': 1, 'time': 2, 'last': 1, 'for': 1, 'a': 1, 'lifetime': 1, 'never': 1, 'let': 1, 'till': 1, \"we're\": 1, 'gone': 1, 'was': 1, 'when': 1, 'loved': 1, 'One': 1, 'true': 1, 'hold': 1, 'In': 1, 'life': 1, \"we'll\": 1, 'always': 1}\n"
     ]
    }
   ],
   "source": [
    "# Answer 4_a) SOLVE HERE\n",
    "dosya=open(\"lyrics.txt\")\n",
    "file_list=[]\n",
    "file_dict={}\n",
    "x=0\n",
    "for file in dosya:\n",
    "    file_list.append(file.split())\n",
    "for item in file_list:\n",
    "     for i in item:\n",
    "            if i in file_dict:\n",
    "                 file_dict[i]+=1\n",
    "            else :file_dict[i]=1       \n",
    "                  \n",
    "print(file_dict)"
   ]
  },
  {
   "cell_type": "markdown",
   "metadata": {},
   "source": [
    "b) What is the most frequently used word? (En çok kullanılan kelime hangisidir?)"
   ]
  },
  {
   "cell_type": "code",
   "execution_count": 51,
   "metadata": {},
   "outputs": [
    {
     "name": "stdout",
     "output_type": "stream",
     "text": [
      "I\n"
     ]
    }
   ],
   "source": [
    "#assuming that you have already created the list\n",
    "keys=0\n",
    "for i in file_dict.values():\n",
    "        if i >keys:\n",
    "            keys=i\n",
    "print(list(file_dict.keys())[list(file_dict.values()).index(keys)])  "
   ]
  },
  {
   "cell_type": "markdown",
   "metadata": {},
   "source": [
    "=### Question 5 [15p]"
   ]
  },
  {
   "cell_type": "markdown",
   "metadata": {},
   "source": [
    "Implement the function \"find_Max\" that accepts an arbitrary number of numbers in the form of positional or keyword arguments and returns the maximum of that numbers.  (Aşağıdaki fonksiyonu yazınız. Bu fonksiyon rastgele sayıda ve rastgele şekilde, konum ile ya da anahtar ile, gönderilen sayıların en büyüğünü döndürmektedir)\n",
    "\n",
    "find_Max(5,15) # --> 15\n",
    "find_Max(40, a=10, b=2) # --> 40\n",
    "find_Max(40, a=10, b=2, s=\"55\" ) # --> Incompatible types\n",
    "find_Max() # --> None\n",
    "\n",
    "Evaluation criteria:\n",
    "* If the function works correctly for all types of inputs: full score\n",
    "* If the function works on numeric positional and keyword arguments: 80% full score\n",
    "* If the function works on numeric positional arguments: 50%\n",
    "* If the function works on numeric keyword arguments: 50%"
   ]
  },
  {
   "cell_type": "code",
   "execution_count": 9,
   "metadata": {},
   "outputs": [],
   "source": [
    "# Answer 5 SOLVE HERE:\n",
    "def find_Max(*p, **k):\n",
    "    try:\n",
    "        m= None\n",
    "        for i in p:\n",
    "            if m is None:\n",
    "                m= i\n",
    "            elif i> m:\n",
    "                m= i\n",
    "            for j in k.values():\n",
    "                if m is None:\n",
    "                    m= j\n",
    "                elif j> m:\n",
    "                    m= j\n",
    "    except TypeError:\n",
    "         print(\"TypeError\")\n",
    "    return m"
   ]
  },
  {
   "cell_type": "code",
   "execution_count": 10,
   "metadata": {},
   "outputs": [
    {
     "name": "stdout",
     "output_type": "stream",
     "text": [
      "TypeError\n",
      "40\n"
     ]
    }
   ],
   "source": [
    "# Answer 5 TRY HERE:\n",
    "print(find_Max(40, a=10, b=2,s='55'))"
   ]
  },
  {
   "cell_type": "markdown",
   "metadata": {},
   "source": [
    "### Question 6 [20p:10+10]"
   ]
  },
  {
   "cell_type": "markdown",
   "metadata": {},
   "source": [
    "a) Inplement a function that returns the sum of elements in a given nested list like the one shown below.\n",
    "[1, [2, [3, 4], 5], 6, [7, 8]] \n",
    "(Aşağıdaki gibi \"rastgele\" derinlikte verilen, sadece sayılardan oluşan bir listenin elemanlarının toplamını bulan fonksiyon yazınız)"
   ]
  },
  {
   "cell_type": "code",
   "execution_count": 47,
   "metadata": {},
   "outputs": [],
   "source": [
    "# Answer 6_a) SOLVE HERE:\n",
    "def sum_arbitraryShapeList(arr):\n",
    "    tot = 0\n",
    "    items = list(L) \n",
    "    while items:\n",
    "        front = items.pop(0) \n",
    "        if not isinstance(front, list):\n",
    "            tot += front \n",
    "        else:\n",
    "            items.extend(front) \n",
    "    return tot"
   ]
  },
  {
   "cell_type": "code",
   "execution_count": 48,
   "metadata": {},
   "outputs": [
    {
     "data": {
      "text/plain": [
       "36"
      ]
     },
     "execution_count": 48,
     "metadata": {},
     "output_type": "execute_result"
    }
   ],
   "source": [
    "# Answer 6_a TRY HERE:\n",
    "L=[1, [2, [3, 4], 5], 6, [7, 8]]\n",
    "sum_arbitraryShapeList(L)"
   ]
  },
  {
   "cell_type": "markdown",
   "metadata": {},
   "source": [
    "b) Inplement a function that returns the number of levels in a given nested list like the one shown below.\n",
    "(Verilen bir listenin en fazla kaç seviye derinliği olduğunu bulan bir fonksiyon yazınız)\n",
    "[1, [2, [3, 4], 5], 6, [7, 8]] \n",
    "In this list, level 1 elements: \n",
    "1\n",
    "[2, [3, 4], 5]\n",
    "6\n",
    "[7, 8]\n",
    "Level 2 elements:\n",
    "2\n",
    "[3,4]\n",
    "5\n",
    "7\n",
    "8\n",
    "Level 3 elements:\n",
    "3\n",
    "4\n",
    "No more levels, so the list has at most 3 levels!"
   ]
  },
  {
   "cell_type": "code",
   "execution_count": 42,
   "metadata": {},
   "outputs": [],
   "source": [
    "def depth(nested):\n",
    "        instring = False\n",
    "        count = 0\n",
    "        depthlist = []\n",
    "        for char in repr(nested):\n",
    "            if char == '\"' or char == \"'\":\n",
    "                instring = not instring\n",
    "            elif not instring and ( char == \"[\" or char == \")\" ):\n",
    "                 count += 1\n",
    "            elif not instring and ( char == \"]\" or char == \")\" ):\n",
    "                 count -= 1\n",
    "            depthlist.append(count)\n",
    "        return(max(depthlist))"
   ]
  },
  {
   "cell_type": "code",
   "execution_count": 46,
   "metadata": {},
   "outputs": [
    {
     "data": {
      "text/plain": [
       "2"
      ]
     },
     "execution_count": 46,
     "metadata": {},
     "output_type": "execute_result"
    }
   ],
   "source": [
    "# Answer 6_b TRY HERE:\n",
    "A=[1, [2, [3, 4], 5], 6, [7, 8]]\n",
    "B=[2, [3, 4], 5] ,6 ,[7, 8]\n",
    "depth(B)"
   ]
  }
 ],
 "metadata": {
  "celltoolbar": "Raw Cell Format",
  "kernelspec": {
   "display_name": "Python 3",
   "language": "python",
   "name": "python3"
  },
  "language_info": {
   "codemirror_mode": {
    "name": "ipython",
    "version": 3
   },
   "file_extension": ".py",
   "mimetype": "text/x-python",
   "name": "python",
   "nbconvert_exporter": "python",
   "pygments_lexer": "ipython3",
   "version": "3.6.4"
  }
 },
 "nbformat": 4,
 "nbformat_minor": 2
}
