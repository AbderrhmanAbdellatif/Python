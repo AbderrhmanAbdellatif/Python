{
 "cells": [
  {
   "cell_type": "code",
   "execution_count": 1,
   "metadata": {},
   "outputs": [],
   "source": [
    "class Number:\n",
    "    def __init__(self, start):              # on Number(start)\n",
    "        self.data = start\n",
    "    def __sub__(self, other):               # on instance - other\n",
    "        return Number(self.data - other)    # result is a new instance"
   ]
  },
  {
   "cell_type": "code",
   "execution_count": 9,
   "metadata": {},
   "outputs": [
    {
     "name": "stdout",
     "output_type": "stream",
     "text": [
      "<__main__.Number object at 0x000001E15ADD7860>\n"
     ]
    }
   ],
   "source": [
    "X = Number(5)                           # calls Number.__init__(X, 5)\n",
    "Y=X- 2"
   ]
  },
  {
   "cell_type": "code",
   "execution_count": 14,
   "metadata": {},
   "outputs": [
    {
     "name": "stdout",
     "output_type": "stream",
     "text": [
      "0\n",
      "1\n",
      "4\n",
      "9\n",
      "16\n"
     ]
    }
   ],
   "source": [
    "class indexer:\n",
    "    def __getitem__(self, index):\n",
    "          return index ** 2\n",
    "X = indexer()\n",
    "for i in range(5):\n",
    "        print(X[i],)             # X[i] calls __getitem__(X, i)"
   ]
  },
  {
   "cell_type": "code",
   "execution_count": 17,
   "metadata": {},
   "outputs": [
    {
     "name": "stdout",
     "output_type": "stream",
     "text": [
      "S\n",
      "p\n",
      "a\n",
      "m\n"
     ]
    }
   ],
   "source": [
    "class stepper:\n",
    "     def __getitem__(self, i):\n",
    "        return self.data[i]\n",
    "\n",
    "X = stepper()              # X is a stepper object\n",
    "X.data = \"Spam\"\n",
    "\n",
    "for item in X:             # for loops call __getitem__\n",
    "    print(item,)              # for indexes items 0..N"
   ]
  },
  {
   "cell_type": "code",
   "execution_count": 23,
   "metadata": {},
   "outputs": [
    {
     "data": {
      "text/plain": [
       "{'data1': 'spam', 'data2': 'eggs', 'data3': 'toast'}"
      ]
     },
     "execution_count": 23,
     "metadata": {},
     "output_type": "execute_result"
    }
   ],
   "source": [
    "class super:\n",
    "     def hello(self):\n",
    "            self.data1 = \"spam\"\n",
    "\n",
    "class sub(super):\n",
    "     def howdy(self):\n",
    "            self.data2 = \"eggs\"\n",
    "\n",
    "X = sub()          # make a new namespace (dictionary)\n",
    "X.__dict__\n",
    "{}\n",
    "X.hello()          # changes instance namespace\n",
    "X.__dict__\n",
    "{'data1': 'spam'}\n",
    "X.howdy()          # changes instance namespace\n",
    "X.__dict__\n",
    "{'data2': 'eggs', 'data1': 'spam'}\n",
    "super.__dict__\n",
    "#{'hello': <function hello at 88d9b0>, '__doc__': None}\n",
    "sub.__dict__\n",
    "#{'__doc__': None, 'howdy': <function howdy at 88ea20>}\n",
    "X.data3 = \"toast\"\n",
    "X.__dict__\n",
    "{'data3': 'toast', 'data2': 'eggs', 'data1': 'spam'}"
   ]
  },
  {
   "cell_type": "code",
   "execution_count": 34,
   "metadata": {},
   "outputs": [
    {
     "name": "stdout",
     "output_type": "stream",
     "text": [
      "1) Today is Thursday\n",
      "2) You are 64 years old; 41d:23h:09m:14s until your next birthday.\n"
     ]
    }
   ],
   "source": [
    "import datetime\n",
    "rules = {0: \"Monday\",\n",
    "         1: \"Tuesday\",\n",
    "         2: \"Wednesday\",\n",
    "         3: \"Thursday\",\n",
    "         4: \"Friday\",\n",
    "         5: \"Saturday\",\n",
    "         6: \"Sunday\"}\n",
    "\n",
    "\n",
    "class Time(object):\n",
    "    now = datetime.datetime.now()\n",
    "\n",
    "    def __init__(self, year=1, month=1, day=1, hour=0, minute=0, second=0):\n",
    "        self.date = datetime.datetime(year, month, day, hour, minute, second)\n",
    "\n",
    "today = Time().now\n",
    "birthday = Time(1953, 5, 24).date\n",
    "\n",
    "\n",
    "def day_of_week():\n",
    "    return \"1) Today is %s\" % rules[today.weekday()]\n",
    "\n",
    "\n",
    "def birthday_stats(birthday):\n",
    "    age = today.year - birthday.year\n",
    "    if (birthday.month == today.month) and (birthday.day <= today.day):\n",
    "        pass\n",
    "    elif birthday.month < today.month:\n",
    "        pass\n",
    "    else:\n",
    "        age -= 1\n",
    "\n",
    "    birthday_ = Time(today.year, birthday.month, birthday.day).date\n",
    "    till_birthday = str(birthday_ - today).split()\n",
    "\n",
    "    if len(till_birthday) > 1:\n",
    "        days = int(till_birthday[0])\n",
    "        time = till_birthday[2].split(\":\")\n",
    "    else:\n",
    "        days = 365\n",
    "        time = till_birthday[0].split(\":\")\n",
    "\n",
    "    hours = time[0]\n",
    "    mins = time[1]\n",
    "    secs = time[2][:2]\n",
    "\n",
    "    if (days < 0) and (days != 365):\n",
    "        days = 365 + days\n",
    "    elif (days == 365):\n",
    "        days = 0\n",
    "    else:\n",
    "        days = abs(days)\n",
    "\n",
    "    print (\"2) You are %s years old; %sd:%sh:%sm:%ss until your next birthday.\"\n",
    "    % (age, days, hours, mins, secs))\n",
    "\n",
    "print (day_of_week())\n",
    "birthday_stats(birthday)"
   ]
  },
  {
   "cell_type": "code",
   "execution_count": 38,
   "metadata": {},
   "outputs": [],
   "source": [
    "class Time(object):\n",
    "    \"\"\" Represents the time of day.\n",
    "    attributes: hour, minute, second \"\"\"\n",
    "\n",
    "time=Time()\n",
    "\n",
    "time.hour=11\n",
    "time.minute=59\n",
    "time.second=30\n",
    "\n",
    "# Exercise 16.1. Write a function called print_time that takes a Time object \n",
    "# and prints it in the form hour:minute:second. Hint: the format sequence \n",
    "# '%.2d' prints an integer using at least two digits, including a leading zero \n",
    "# if necessary.\n",
    "\n",
    "def print_time(time):\n",
    "    print ('%.2d hours %.2d minutes and %.2d seconds' % (time.hour, time.minute, time.second))\n",
    "    \n",
    "# Exercise 16.2. Write a boolean function called is_after that takes two Time \n",
    "# objects, t1 and t2, and returns True if t1 follows t2 chronologically and \n",
    "# False otherwise. Challenge: don't use an if statement.\n",
    "\n",
    "def is_after(t1,t2):\n",
    "    a=3600*t1.hour+60*t1.minute+t1.second\n",
    "    b=3600*t2.hour+60*t2.minute+t2.second\n",
    "    return a>b\n",
    "\n",
    "#Exercise 16.3. Write a correct version of increment that doesnt contain \n",
    "#any loops.\n",
    "\n",
    "def increment(time,seconds):\n",
    "    a=time.second+seconds\n",
    "    b=time.minute+a/60\n",
    "    time.hour+=b/60\n",
    "    time.minute=b%60\n",
    "    time.second=a%60\n",
    "\n",
    "# Exercise 16.4. Write a \"pure\" version of increment that creates and returns \n",
    "# a new Time object rather than modifying the parameter.\n",
    "\n",
    "def pureinc(time,seconds):\n",
    "    import copy\n",
    "    time2=copy.copy(time)\n",
    "    increment(time2,seconds)\n",
    "    return time2\n",
    "\n",
    "#Exercise 16.5. Rewrite increment using time_to_int and int_to_time.\n",
    "\"\"\" this was kinda done\"\"\"\n",
    "\n",
    "def seconds(t1):\n",
    "    return ((3600*t1.hour)+(60*t1.minute)+(t1.second))\n",
    "\n",
    "def t2t(a):\n",
    "    time=Time()\n",
    "    time.hour=a/3600\n",
    "    a=a%3600\n",
    "    time.minute=a/60\n",
    "    time.second=a%60\n",
    "    return time\n",
    "\n",
    "\n",
    "# Exercise 16.6. Write a function called mul_time that takes a Time object and \n",
    "# a number and returns a new Time object that contains the product of the \n",
    "# original Time and the number. Then use mul_time to write a function that takes \n",
    "# a Time object that represents the finishing time in a race, and a number that \n",
    "# represents the distance, and returns a Time object that represents the average \n",
    "# pace (time per mile).\n",
    "\n",
    "def mul_time(t1,n):\n",
    "    a=seconds(t1)*n\n",
    "    return t2t(int(round(a)))\n",
    "    \n",
    "def pace(ftime, miles):\n",
    "    return mul_time(ftime,1.0/miles)\n",
    "    \n",
    "    \n",
    "# Exercise 16.7. The datetime module provides date and time objects that are \n",
    "# similar to the Date and Time objects in this chapter, but they provide a \n",
    "# rich set of methods and operators. \n",
    "\n",
    "# 1. Use the datetime module to write a program that gets the current date and \n",
    "# prints the day of the week.\n",
    "\n",
    "# 2. Write a program that takes a birthday as input and prints the user's age \n",
    "# and the number of days, hours, minutes and seconds until their next birthday.\n",
    "\n",
    "# 3. For two people born on different days, there is a day when one is twice as \n",
    "# old as the other. That's their Double Day. Write a program that takes two \n",
    "# birthdays and computes their DoubleDay.\n",
    "\n",
    "# 4. For a little more challenge, write the more general version that computes \n",
    "# the day when one person is n times older than the other."
   ]
  },
  {
   "cell_type": "code",
   "execution_count": 3,
   "metadata": {},
   "outputs": [
    {
     "name": "stdout",
     "output_type": "stream",
     "text": [
      "so far  1\n",
      "so far  2\n",
      "so far  3\n",
      "so far  4\n",
      "so far  5\n",
      "so far  6\n",
      "so far  7\n",
      "so far  8\n",
      "so far  9\n",
      "so far  10\n"
     ]
    }
   ],
   "source": [
    "class partAnimal:\n",
    "    x=0\n",
    "    def part(self):\n",
    "        self.x=self.x+1\n",
    "        print(\"so far \",self.x)\n",
    "temp=partAnimal()\n",
    "for i in range(10):\n",
    "    temp.part()"
   ]
  },
  {
   "cell_type": "code",
   "execution_count": 19,
   "metadata": {},
   "outputs": [
    {
     "name": "stdout",
     "output_type": "stream",
     "text": [
      "mahmut 70 470\n",
      "Help on personel in module __main__ object:\n",
      "\n",
      "class personel(builtins.object)\n",
      " |  Methods defined here:\n",
      " |  \n",
      " |  peronelolustur(mass, Adi, yas)\n",
      " |  \n",
      " |  ----------------------------------------------------------------------\n",
      " |  Data descriptors defined here:\n",
      " |  \n",
      " |  __dict__\n",
      " |      dictionary for instance variables (if defined)\n",
      " |  \n",
      " |  __weakref__\n",
      " |      list of weak references to the object (if defined)\n",
      " |  \n",
      " |  ----------------------------------------------------------------------\n",
      " |  Data and other attributes defined here:\n",
      " |  \n",
      " |  Adi = ' '\n",
      " |  \n",
      " |  mass = (0, 0)\n",
      " |  \n",
      " |  yas = 0\n",
      "\n"
     ]
    },
    {
     "data": {
      "text/plain": [
       "__main__.personel"
      ]
     },
     "execution_count": 19,
     "metadata": {},
     "output_type": "execute_result"
    }
   ],
   "source": [
    "class personel:\n",
    "    mass=0,0\n",
    "    Adi=\" \"\n",
    "    yas=0\n",
    "    def peronelolustur(mass,Adi,yas):\n",
    "        mass=mass\n",
    "        Adi=Adi\n",
    "        yas=yas\n",
    "        print(Adi , yas , mass)\n",
    "p=personel()\n",
    "personel.peronelolustur(470,\"mahmut\",70)\n",
    "dir(p)\n",
    "help(p)\n",
    "type(p)"
   ]
  },
  {
   "cell_type": "code",
   "execution_count": 22,
   "metadata": {},
   "outputs": [
    {
     "name": "stdout",
     "output_type": "stream",
     "text": [
      "I am constructed\n",
      "So far 1\n",
      "So far 2\n",
      "I am destructed 2\n",
      "an contains 42\n"
     ]
    }
   ],
   "source": [
    "#The constructor and destructor are optional. \n",
    "#The constructor is typically used to set up variables. \n",
    "#The destructor is seldom used.\n",
    "\n",
    "class PartyAnimal:\n",
    "   x = 0\n",
    "   def __init__(self):\n",
    "        print('I am constructed')\n",
    "\n",
    "   def party(self) :\n",
    "     self.x = self.x + 1\n",
    "     print('So far',self.x)\n",
    "\n",
    "   def __del__(self):\n",
    "     print('I am destructed', self.x)\n",
    "\n",
    "an = PartyAnimal()\n",
    "an.party()\n",
    "an.party()\n",
    "an = 42\n",
    "print('an contains',an)\n"
   ]
  },
  {
   "cell_type": "code",
   "execution_count": 35,
   "metadata": {},
   "outputs": [
    {
     "name": "stdout",
     "output_type": "stream",
     "text": [
      "Sally constructed\n",
      "Jim constructed\n",
      "Sally party count 1\n",
      "Jim party count 1\n",
      "Sally party count 2\n"
     ]
    }
   ],
   "source": [
    "#Constructors can have additional parameters. \n",
    "#These can be used to set up instance variables \n",
    "#for the particular instance of\n",
    "#the class (i.e., for the particular object).\n",
    "\n",
    "class PartyAnimal:\n",
    "   x = 0\n",
    "   name = \"\"\n",
    "   def __init__(self, z):\n",
    "     self.name = z\n",
    "     print(self.name,\"constructed\")\n",
    "\n",
    "   def party(self) :\n",
    "     self.x = self.x + 1\n",
    "     print(self.name,\"party count\",self.x)\n",
    "\n",
    "s = PartyAnimal(\"Sally\")\n",
    "j = PartyAnimal(\"Jim\")\n",
    "\n",
    "s.party()\n",
    "j.party()\n",
    "s.party()\n"
   ]
  },
  {
   "cell_type": "code",
   "execution_count": 37,
   "metadata": {},
   "outputs": [
    {
     "name": "stdout",
     "output_type": "stream",
     "text": [
      "Sally constructed\n",
      "Sally party count 1\n",
      "Jim constructed\n",
      "Jim party count 1\n",
      "Jim party count 2\n",
      "Jim points 7\n"
     ]
    }
   ],
   "source": [
    "class PartyAnimal:\n",
    "   x = 0\n",
    "   name = \"\"\n",
    "   def __init__(self, nam):\n",
    "     self.name = nam\n",
    "     print(self.name,\"constructed\")\n",
    "\n",
    "   def party(self) :\n",
    "     self.x = self.x + 1\n",
    "     print(self.name,\"party count\",self.x)\n",
    "\n",
    "class FootballFan(PartyAnimal):\n",
    "   points = 0\n",
    "   def touchdown(self):\n",
    "      self.points = self.points + 7\n",
    "      self.party()\n",
    "      print(self.name,\"points\",self.points)\n",
    "s = PartyAnimal(\"Sally\")\n",
    "s.party()\n",
    "\n",
    "j = FootballFan(\"Jim\")\n",
    "j.party()\n",
    "j.touchdown()\n"
   ]
  },
  {
   "cell_type": "code",
   "execution_count": null,
   "metadata": {},
   "outputs": [],
   "source": [
    "#Method    Overloads                 Called for\n",
    "#__init__  Constructor              Object creation: Class()\n",
    "#__del__  Destructor                Object reclamation\n",
    "#__add__  Operator ‘+’               X + Y\n",
    "#__or__   Operator ‘|’ (bitwise or) X | Y\n",
    "#__repr__  Printing, conversions    print X, 'X'\n",
    "#__call__  Function calls           X()\n",
    "#__getattr__ Qualification          X.undefined\n",
    "#__getitem__ Indexing               X[key], for loops, in tests\n",
    "#__setitem__ Index assignment       X[key] = value\n",
    "#__getslice__ Slicing               X[low:high]\n",
    "#__len__ Length                     len (X), truth tests\n",
    "#__cmp__ Comparison                  X == Y, X < Y\n",
    "#__radd__ Right-side operator '+'    Noninstance + X"
   ]
  },
  {
   "cell_type": "code",
   "execution_count": null,
   "metadata": {},
   "outputs": [],
   "source": []
  },
  {
   "cell_type": "code",
   "execution_count": null,
   "metadata": {},
   "outputs": [],
   "source": []
  }
 ],
 "metadata": {
  "kernelspec": {
   "display_name": "Python 3",
   "language": "python",
   "name": "python3"
  },
  "language_info": {
   "codemirror_mode": {
    "name": "ipython",
    "version": 3
   },
   "file_extension": ".py",
   "mimetype": "text/x-python",
   "name": "python",
   "nbconvert_exporter": "python",
   "pygments_lexer": "ipython3",
   "version": "3.6.4"
  }
 },
 "nbformat": 4,
 "nbformat_minor": 2
}
