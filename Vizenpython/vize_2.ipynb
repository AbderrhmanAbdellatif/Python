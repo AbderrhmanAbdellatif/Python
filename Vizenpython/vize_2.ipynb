{
 "cells": [
  {
   "cell_type": "code",
   "execution_count": 1,
   "metadata": {},
   "outputs": [
    {
     "name": "stdout",
     "output_type": "stream",
     "text": [
      "['Arise', 'But', 'It', 'Juliet', 'Who', 'already', 'and', 'breaks', 'east', 'envious', 'fair', 'grief', 'is', 'kill', 'light', 'moon', 'pale', 'sick', 'soft', 'sun', 'the', 'through', 'what', 'window', 'with', 'yonder']\n"
     ]
    }
   ],
   "source": [
    "file=open(\"romeo.txt\")\n",
    "my_list=[]\n",
    "for i in file:\n",
    "    item=i.split()\n",
    "    for k in item:\n",
    "        if k not in my_list:\n",
    "            my_list.append(k)\n",
    "my_list.sort()            \n",
    "print(my_list)        "
   ]
  },
  {
   "cell_type": "code",
   "execution_count": 2,
   "metadata": {},
   "outputs": [
    {
     "data": {
      "text/plain": [
       "{'A': 3,\n",
       " 'B': 2,\n",
       " 'E': 2,\n",
       " 'F': 1,\n",
       " 'G': 1,\n",
       " 'I': 2,\n",
       " 'J': 1,\n",
       " 'K': 1,\n",
       " 'L': 1,\n",
       " 'M': 1,\n",
       " 'P': 1,\n",
       " 'S': 3,\n",
       " 'T': 2,\n",
       " 'W': 4,\n",
       " 'Y': 1}"
      ]
     },
     "execution_count": 2,
     "metadata": {},
     "output_type": "execute_result"
    }
   ],
   "source": [
    "my_dict={}\n",
    "for item  in my_list:\n",
    "        kelime=item[0]\n",
    "        x=kelime.upper()\n",
    "        if x in my_dict:\n",
    "             my_dict[x]+=1\n",
    "        else: \n",
    "             my_dict[x]=1\n",
    "my_dict            "
   ]
  },
  {
   "cell_type": "code",
   "execution_count": 3,
   "metadata": {},
   "outputs": [],
   "source": [
    "my_file=open(\"mbox-short.txt\")\n",
    "my_list_ex=[]\n",
    "my_list_ex1=[]\n",
    "for item in my_file:\n",
    "    my_list_ex.append(item.split(\" \"))\n",
    "#my_list_ex\n"
   ]
  },
  {
   "cell_type": "code",
   "execution_count": 4,
   "metadata": {},
   "outputs": [
    {
     "name": "stdout",
     "output_type": "stream",
     "text": [
      "{'w': 0, 'o': 1, 'r': 2, 'd': 3, ' ': 4, 'i': 5, 'n': 6}\n",
      "{'one': 1, 'two': 2, 'three': 3, 'w': 0, 'o': 1, 'r': 2, 'd': 3, ' ': 4, 'i': 5, 'n': 6}\n"
     ]
    }
   ],
   "source": [
    "my_dict_ex={}\n",
    "my_dict_ex01={\"one\":1,\"two\":2,\"three\":3}\n",
    "item=\"word in\"\n",
    "for i in range(len(item)) :\n",
    "    my_dict_ex[item[i]]=i\n",
    "    #my_dict_ex[item]=i\n",
    "print(my_dict_ex)\n",
    "my_dict_ex01.update(my_dict_ex)\n",
    "print(my_dict_ex01)"
   ]
  },
  {
   "cell_type": "code",
   "execution_count": 5,
   "metadata": {},
   "outputs": [
    {
     "name": "stdout",
     "output_type": "stream",
     "text": [
      "{'d'}\n",
      "{'f', 'd', 'b', 'c', 'a'}\n",
      "{'c', 'a', 'b'}\n",
      "{'f', 'd'}\n"
     ]
    }
   ],
   "source": [
    "a=set(\"abcd\")\n",
    "b=set(\"abcf\")\n",
    "print(a-b)  #letters in a but not in b\n",
    "print(a|b) \n",
    "print(a & b)\n",
    "print(a ^ b)"
   ]
  },
  {
   "cell_type": "code",
   "execution_count": 6,
   "metadata": {},
   "outputs": [
    {
     "name": "stdout",
     "output_type": "stream",
     "text": [
      "0\n",
      "1\n",
      "2\n",
      "3\n"
     ]
    },
    {
     "data": {
      "text/plain": [
       "(100, 222, 'Hello', (6, 8, 9))"
      ]
     },
     "execution_count": 6,
     "metadata": {},
     "output_type": "execute_result"
    }
   ],
   "source": [
    "h=100,222,\"Hello\",(6,8,9)\n",
    "for i in range(len(h)):\n",
    "    print(i)\n",
    "h    "
   ]
  },
  {
   "cell_type": "code",
   "execution_count": 7,
   "metadata": {},
   "outputs": [
    {
     "name": "stdout",
     "output_type": "stream",
     "text": [
      "1 [8, 6, 7, 5, 4, 79, 5, 9, 4, 9, 45, 78, 8, 7] 8\n"
     ]
    }
   ],
   "source": [
    "ex=[1,8,6,7,5,4,79,5,9,4,9,45,78,8,7,8]\n",
    "a,*b,c=ex\n",
    "print(a,b,c)"
   ]
  },
  {
   "cell_type": "code",
   "execution_count": 8,
   "metadata": {},
   "outputs": [
    {
     "name": "stdout",
     "output_type": "stream",
     "text": [
      "fsmvu mahmut\n",
      "smvu mahmut\n",
      "mvu mahmut\n",
      "vu mahmut\n",
      "u mahmut\n",
      " mahmut\n",
      "mahmut\n",
      "ahmut\n",
      "hmut\n",
      "mut\n",
      "ut\n",
      "t\n"
     ]
    }
   ],
   "source": [
    "x =\"fsmvu mahmut\"\n",
    "for item in x:\n",
    "    print(x)\n",
    "    x=x[1:]"
   ]
  },
  {
   "cell_type": "code",
   "execution_count": 9,
   "metadata": {},
   "outputs": [
    {
     "name": "stdout",
     "output_type": "stream",
     "text": [
      "x\n",
      "y\n",
      "z\n"
     ]
    }
   ],
   "source": [
    "for item in [\"x\",\"y\",\"z\"]:\n",
    "    print(item)"
   ]
  },
  {
   "cell_type": "code",
   "execution_count": 10,
   "metadata": {},
   "outputs": [
    {
     "name": "stdout",
     "output_type": "stream",
     "text": [
      "(1, 3, 5)\n",
      "(2, 4, 6)\n"
     ]
    }
   ],
   "source": [
    "T = [(1, 2), (3, 4), (5, 6)] # list of tuples\n",
    "my_list=zip(*T)\n",
    "for i in my_list:\n",
    "    print(i)"
   ]
  },
  {
   "cell_type": "code",
   "execution_count": 11,
   "metadata": {},
   "outputs": [
    {
     "name": "stdout",
     "output_type": "stream",
     "text": [
      "[[2, 1], [6, 5], [4, 3]]\n",
      "[[2, 1], [4, 3], [6, 5]]\n"
     ]
    }
   ],
   "source": [
    "T = [(1, 2),(5, 6), (3, 4)] # list of tuples\n",
    "my_list_Ex_orenk=[]\n",
    "for (a,b) in T:\n",
    "    my_list_Ex_orenk.append([b,a])\n",
    "print(my_list_Ex_orenk)    \n",
    "my_list_Ex_orenk.sort()\n",
    "print(my_list_Ex_orenk)"
   ]
  },
  {
   "cell_type": "code",
   "execution_count": 12,
   "metadata": {},
   "outputs": [
    {
     "data": {
      "text/plain": [
       "['p']"
      ]
     },
     "execution_count": 12,
     "metadata": {},
     "output_type": "execute_result"
    }
   ],
   "source": [
    "seq1 = \"spam\"\n",
    "seq2 = \"scam\"\n",
    "p=[]\n",
    "for g in seq1:\n",
    "     if g not in seq2:\n",
    "            p.append(g)\n",
    "p                "
   ]
  },
  {
   "cell_type": "code",
   "execution_count": 13,
   "metadata": {},
   "outputs": [
    {
     "data": {
      "text/plain": [
       "['s', 'a', 'm']"
      ]
     },
     "execution_count": 13,
     "metadata": {},
     "output_type": "execute_result"
    }
   ],
   "source": [
    "seq1 = \"spam\"\n",
    "seq2 = \"scam\"\n",
    "p=[]\n",
    "for g in seq1:\n",
    "     if g in seq2:\n",
    "            p.append(g)\n",
    "p                "
   ]
  },
  {
   "cell_type": "code",
   "execution_count": 14,
   "metadata": {},
   "outputs": [
    {
     "name": "stdout",
     "output_type": "stream",
     "text": [
      "smvuf\n",
      "mvufs\n",
      "vufsm\n",
      "ufsmv\n",
      "fsmvu\n"
     ]
    }
   ],
   "source": [
    "okul=\"fsmvu\"\n",
    "for i in range(len(okul)):\n",
    "    okul=okul[1:]+okul[:1]\n",
    "    print(okul)"
   ]
  },
  {
   "cell_type": "code",
   "execution_count": 15,
   "metadata": {},
   "outputs": [
    {
     "name": "stdout",
     "output_type": "stream",
     "text": [
      "Is input 128 is a power of two?: True\n"
     ]
    }
   ],
   "source": [
    "sayi= 128 # try with different numbers\n",
    "ispoweroftwo= False\n",
    "\n",
    "if sayi%2 !=0: # if not even\n",
    "    ispoweroftwo= False\n",
    "else:\n",
    "    s= 1\n",
    "    while s<=sayi:\n",
    "        if s== sayi:\n",
    "            ispoweroftwo= True\n",
    "        s= s * 2\n",
    "print(\"Is input \"+ str(sayi)+ \" is a power of two?: \" +str(ispoweroftwo))\n"
   ]
  },
  {
   "cell_type": "code",
   "execution_count": 16,
   "metadata": {},
   "outputs": [
    {
     "name": "stdout",
     "output_type": "stream",
     "text": [
      "enter a number 555\n",
      "555\n"
     ]
    }
   ],
   "source": [
    "a=input(\"enter a number \")\n",
    "a=str(a)\n",
    "b=a[::-1]\n",
    "b=int(b)\n",
    "print(b)\n"
   ]
  },
  {
   "cell_type": "code",
   "execution_count": 17,
   "metadata": {},
   "outputs": [
    {
     "name": "stdout",
     "output_type": "stream",
     "text": [
      "1 mahmut\n",
      "5 fsmvu\n"
     ]
    }
   ],
   "source": [
    "k={\"mahmut\":1,\"fsmvu\":5}\n",
    "for a,b in k.items():\n",
    "     print(b,a)"
   ]
  },
  {
   "cell_type": "code",
   "execution_count": 18,
   "metadata": {},
   "outputs": [
    {
     "name": "stdout",
     "output_type": "stream",
     "text": [
      " ogrenci : mahmut , devleti : egypt\n",
      " ogrenci : isea , devleti : istanbul\n",
      " ogrenci : isahk , devleti : endiren\n",
      " ogrenci : musteli , devleti : suudi\n",
      " ogrenci : muhendlis , devleti : turkiye\n"
     ]
    }
   ],
   "source": [
    "o=[\"mahmut\",\"isea\",\"isahk\",\"musteli\",\"muhendlis\"]\n",
    "c=[\"egypt\",\"istanbul\",\"endiren\",\"suudi\",\"turkiye\"]\n",
    "for a,b in zip(o,c):\n",
    "         print(\" ogrenci : {0} , devleti : {1}\".format(a,b))"
   ]
  },
  {
   "cell_type": "code",
   "execution_count": 19,
   "metadata": {},
   "outputs": [
    {
     "name": "stdout",
     "output_type": "stream",
     "text": [
      "9 8 7 6 5 4 3 2 1 0 "
     ]
    }
   ],
   "source": [
    "for i in reversed(range(0,10)):\n",
    "      print(i,end=' ')"
   ]
  },
  {
   "cell_type": "code",
   "execution_count": 20,
   "metadata": {},
   "outputs": [
    {
     "name": "stdout",
     "output_type": "stream",
     "text": [
      "A\n",
      "B\n",
      "C\n",
      "D\n",
      "E\n",
      "F\n"
     ]
    }
   ],
   "source": [
    "A=['A','C','B','D','E','F']\n",
    "for i in sorted(set(A)):\n",
    "    print(i)"
   ]
  },
  {
   "cell_type": "code",
   "execution_count": 21,
   "metadata": {},
   "outputs": [
    {
     "name": "stdout",
     "output_type": "stream",
     "text": [
      "m\n",
      "a\n",
      "h\n",
      "m\n",
      "u\n",
      "t\n"
     ]
    }
   ],
   "source": [
    "for item in 'mahmut':print(item)"
   ]
  },
  {
   "cell_type": "code",
   "execution_count": 22,
   "metadata": {},
   "outputs": [
    {
     "name": "stdout",
     "output_type": "stream",
     "text": [
      "1\n",
      "2\n",
      "3\n"
     ]
    }
   ],
   "source": [
    "L=[1,2,3]\n",
    "I=iter(L)\n",
    "print(I.__next__())\n",
    "print(I.__next__())\n",
    "print(I.__next__())"
   ]
  },
  {
   "cell_type": "code",
   "execution_count": 23,
   "metadata": {},
   "outputs": [
    {
     "name": "stdout",
     "output_type": "stream",
     "text": [
      "a 1\n",
      "b 2\n",
      "c 3\n"
     ]
    }
   ],
   "source": [
    "# step through the keys of a dictionary:\n",
    "D = {'a':1, 'b':2, 'c':3}\n",
    "for key in D.keys():      # in D\n",
    "    print(key, D[key])"
   ]
  },
  {
   "cell_type": "code",
   "execution_count": 24,
   "metadata": {},
   "outputs": [
    {
     "name": "stdout",
     "output_type": "stream",
     "text": [
      "[(0, 'f'), (1, 's'), (2, 'm'), (3, 'v'), (4, 'u'), (5, ' '), (6, 'o'), (7, 'g'), (8, 'r'), (9, 'r'), (10, 'n'), (11, 'c'), (12, 'i'), (13, 'y'), (14, 'i'), (15, 'm')]\n"
     ]
    }
   ],
   "source": [
    "E=enumerate(\"fsmvu ogrrnciyim\")\n",
    "L=list(E)\n",
    "print(L)"
   ]
  },
  {
   "cell_type": "code",
   "execution_count": 25,
   "metadata": {},
   "outputs": [
    {
     "name": "stdout",
     "output_type": "stream",
     "text": [
      "[1, 3, 5, 7, 9, 11, 13, 15, 17, 19]\n"
     ]
    }
   ],
   "source": [
    "L= [u  for u in range(20) if u%2]\n",
    "print(L)"
   ]
  },
  {
   "cell_type": "code",
   "execution_count": 26,
   "metadata": {},
   "outputs": [
    {
     "name": "stdout",
     "output_type": "stream",
     "text": [
      "['Even', 'Odd', 'Even', 'Odd', 'Even', 'Odd', 'Even', 'Odd', 'Even', 'Odd', 'Even', 'Odd', 'Even', 'Odd', 'Even', 'Odd', 'Even', 'Odd', 'Even', 'Odd']\n"
     ]
    }
   ],
   "source": [
    "L= [[\"Even\",\"Odd\"] [u%2] for u in range(20)  ]\n",
    "print(L)"
   ]
  },
  {
   "cell_type": "code",
   "execution_count": 27,
   "metadata": {},
   "outputs": [
    {
     "name": "stdout",
     "output_type": "stream",
     "text": [
      "[20, 24, 28, 30, 100, 20, 8, 88, 104]\n"
     ]
    }
   ],
   "source": [
    "L1= [10,12,14,15,50, 10, 4, 44, 52]\n",
    "L2= [ x*2 for x in L1 ]\n",
    "print(L2)"
   ]
  },
  {
   "cell_type": "code",
   "execution_count": 28,
   "metadata": {},
   "outputs": [
    {
     "name": "stdout",
     "output_type": "stream",
     "text": [
      "['A', 'A', 'N', 'D', 'S']\n"
     ]
    }
   ],
   "source": [
    "L1= [\"ali\", \"ayşe\",\"nihan\",\"demet\",\"selim\"]\n",
    "L2= [x[0].upper() for x in L1]\n",
    "print(L2)"
   ]
  },
  {
   "cell_type": "code",
   "execution_count": 29,
   "metadata": {
    "scrolled": true
   },
   "outputs": [
    {
     "name": "stdout",
     "output_type": "stream",
     "text": [
      "['ax', 'ay', 'az', 'bx', 'by', 'bz', 'cx', 'cy', 'cz']\n"
     ]
    }
   ],
   "source": [
    "# Using the given two strings, create a list comprised of all 2-letter combinations of those strings.\n",
    "str1= \"abc\"\n",
    "str2= \"xyz\"\n",
    "L2= [ x +y for x in 'abc' for y in 'xyz']\n",
    "print(L2)"
   ]
  },
  {
   "cell_type": "code",
   "execution_count": 30,
   "metadata": {},
   "outputs": [],
   "source": [
    "def F(n):\n",
    "    if n == 0: return 0\n",
    "    elif n == 1: return 1\n",
    "    else: return F(n-1)+F(n-2)"
   ]
  },
  {
   "cell_type": "code",
   "execution_count": 31,
   "metadata": {},
   "outputs": [
    {
     "name": "stdout",
     "output_type": "stream",
     "text": [
      "[1, 1, 2, 6, 24]\n"
     ]
    }
   ],
   "source": [
    "import math\n",
    "L=[ math.factorial(c) for c in range(5)]\n",
    "print(L)"
   ]
  },
  {
   "cell_type": "code",
   "execution_count": 32,
   "metadata": {},
   "outputs": [
    {
     "data": {
      "text/plain": [
       "['f', 'v', 'u']"
      ]
     },
     "execution_count": 32,
     "metadata": {},
     "output_type": "execute_result"
    }
   ],
   "source": [
    "kelime=\"fsmvu\"\n",
    "kelime2=\"fvu2\"\n",
    "l=[x for x in kelime if x  in kelime2 ]\n",
    "l"
   ]
  },
  {
   "cell_type": "code",
   "execution_count": 33,
   "metadata": {},
   "outputs": [],
   "source": [
    "def f(a, *b, c=6, **d): \n",
    "    print(a, b, c, d)"
   ]
  },
  {
   "cell_type": "code",
   "execution_count": 34,
   "metadata": {},
   "outputs": [
    {
     "name": "stdout",
     "output_type": "stream",
     "text": [
      "1 (2, 3) 8 {'x': 4, 'y': 5}\n"
     ]
    }
   ],
   "source": [
    "f(1, 2, 3, x=4, y=5,c=8) # Override default c value"
   ]
  },
  {
   "cell_type": "code",
   "execution_count": 35,
   "metadata": {},
   "outputs": [],
   "source": [
    "def Find_max(*tuplex,**dictx):\n",
    "        big=0\n",
    "        big=max(max(dictx))\n",
    "        return big         "
   ]
  },
  {
   "cell_type": "code",
   "execution_count": 36,
   "metadata": {},
   "outputs": [
    {
     "data": {
      "text/plain": [
       "'p'"
      ]
     },
     "execution_count": 36,
     "metadata": {},
     "output_type": "execute_result"
    }
   ],
   "source": [
    "Find_max(1,5,6,8,9,98,a=4,p=8,g=2)"
   ]
  },
  {
   "cell_type": "code",
   "execution_count": 37,
   "metadata": {},
   "outputs": [
    {
     "name": "stdout",
     "output_type": "stream",
     "text": [
      "8\n"
     ]
    }
   ],
   "source": [
    "def find_sum(*pargs, **kwargs):\n",
    "        sum=0\n",
    "        for i in pargs:\n",
    "              sum=sum+i\n",
    "        for j in kwargs.values():\n",
    "             sum =sum+j\n",
    "        return sum        \n",
    "print(find_sum(1,1,1,1,1,1,a=1,h=1))"
   ]
  },
  {
   "cell_type": "code",
   "execution_count": 38,
   "metadata": {},
   "outputs": [],
   "source": [
    "def Find_max(*tuplex,**dictx):\n",
    "        big=0\n",
    "        big=max(max(dictx))\n",
    "        return big     "
   ]
  },
  {
   "cell_type": "code",
   "execution_count": 39,
   "metadata": {},
   "outputs": [],
   "source": [
    "def sumtree(L):\n",
    "    toplam=0\n",
    "    for i in L:\n",
    "        if not isinstance(i,list):\n",
    "                toplam+=i\n",
    "        else : \n",
    "                toplam+=sumtree(i)\n",
    "    return toplam          "
   ]
  },
  {
   "cell_type": "code",
   "execution_count": 40,
   "metadata": {},
   "outputs": [
    {
     "name": "stdout",
     "output_type": "stream",
     "text": [
      "36\n"
     ]
    }
   ],
   "source": [
    "L = [1, [2, [3, 4], 5], 6, [7, 8]] # Arbitrary nesting\n",
    "print(sumtree(L))"
   ]
  },
  {
   "cell_type": "code",
   "execution_count": 41,
   "metadata": {},
   "outputs": [
    {
     "name": "stdout",
     "output_type": "stream",
     "text": [
      "5\n"
     ]
    },
    {
     "data": {
      "text/plain": [
       "{1: 1, 2: 4, 3: 9, 4: 16, 5: 25}"
      ]
     },
     "execution_count": 41,
     "metadata": {},
     "output_type": "execute_result"
    }
   ],
   "source": [
    "n=int(input())\n",
    "d=dict()\n",
    "for i in range(1,n+1):\n",
    "    d[i]=i*i\n",
    "d"
   ]
  },
  {
   "cell_type": "code",
   "execution_count": 42,
   "metadata": {},
   "outputs": [
    {
     "name": "stdout",
     "output_type": "stream",
     "text": [
      "5\n",
      "4\n"
     ]
    }
   ],
   "source": [
    "import math\n",
    "c=50\n",
    "h=30\n",
    "value = []\n",
    "items=[x for x in input().split(',')]\n",
    "for d in items:\n",
    "    value.append(str(int(round(math.sqrt(2*c*float(d)/h)))))\n",
    "\n",
    "print (','.join(value))"
   ]
  },
  {
   "cell_type": "code",
   "execution_count": 43,
   "metadata": {},
   "outputs": [
    {
     "data": {
      "text/plain": [
       "['without ', ' hello ', ' bag ', ' world']"
      ]
     },
     "execution_count": 43,
     "metadata": {},
     "output_type": "execute_result"
    }
   ],
   "source": [
    "L=\"without , hello , bag , world\"\n",
    "X=[x for x in L.split(\",\")]\n",
    "X.sort\n",
    "X"
   ]
  },
  {
   "cell_type": "code",
   "execution_count": 44,
   "metadata": {},
   "outputs": [
    {
     "name": "stdout",
     "output_type": "stream",
     "text": [
      "1010\n"
     ]
    }
   ],
   "source": [
    "L=\"0100,0011,1010,1001\"\n",
    "items=[x for x in L.split(\",\")]\n",
    "value=[]\n",
    "for p in items:\n",
    "    intp = int(p, 2)\n",
    "    if not intp%5:\n",
    "        value.append(p)\n",
    "\n",
    "print( ','.join(value))"
   ]
  },
  {
   "cell_type": "code",
   "execution_count": 45,
   "metadata": {},
   "outputs": [
    {
     "name": "stdout",
     "output_type": "stream",
     "text": [
      "Heloo\n",
      "LETTERS 5\n",
      "DIGITS 0\n"
     ]
    }
   ],
   "source": [
    "s = input()\n",
    "d={\"DIGITS\":0, \"LETTERS\":0}\n",
    "for c in s:\n",
    "    if c.isdigit():\n",
    "        d[\"DIGITS\"]+=1\n",
    "    elif c.isalpha():\n",
    "        d[\"LETTERS\"]+=1\n",
    "    else:\n",
    "        pass\n",
    "print (\"LETTERS\", d[\"LETTERS\"])\n",
    "print (\"DIGITS\", d[\"DIGITS\"])"
   ]
  },
  {
   "cell_type": "code",
   "execution_count": 46,
   "metadata": {},
   "outputs": [
    {
     "name": "stdout",
     "output_type": "stream",
     "text": [
      "Heee\n",
      "UPPER CASE 1\n",
      "LOWER CASE 3\n"
     ]
    }
   ],
   "source": [
    "s = input()\n",
    "d={\"UPPER CASE\":0, \"LOWER CASE\":0}\n",
    "for c in s:\n",
    "    if c.isupper():\n",
    "        d[\"UPPER CASE\"]+=1\n",
    "    elif c.islower():\n",
    "        d[\"LOWER CASE\"]+=1\n",
    "    else:\n",
    "        pass\n",
    "print (\"UPPER CASE\", d[\"UPPER CASE\"])\n",
    "print (\"LOWER CASE\", d[\"LOWER CASE\"])"
   ]
  },
  {
   "cell_type": "code",
   "execution_count": null,
   "metadata": {},
   "outputs": [
    {
     "name": "stdout",
     "output_type": "stream",
     "text": [
      "1,5,5,9,4,9\n",
      "1,5,5,9,9\n"
     ]
    }
   ],
   "source": [
    "values = input()\n",
    "numbers = [x for x in values.split(\",\") if int(x)%2!=0]\n",
    "print (\",\".join(numbers))"
   ]
  },
  {
   "cell_type": "code",
   "execution_count": null,
   "metadata": {},
   "outputs": [],
   "source": [
    "l = []\n",
    "s = input()\n",
    "while True:\n",
    "    if not s:\n",
    "        break\n",
    "    l.append(tuple(s.split(\",\")))\n",
    "print (sorted(l, key=itemgetter(0,1,2)))"
   ]
  },
  {
   "cell_type": "code",
   "execution_count": null,
   "metadata": {},
   "outputs": [],
   "source": [
    "def printDict():\n",
    "    d=dict{}\n",
    "    for i in range(1,21):\n",
    "        d[i]=i**2\n",
    "        print(d)\n",
    "print(printDict())"
   ]
  },
  {
   "cell_type": "code",
   "execution_count": null,
   "metadata": {},
   "outputs": [],
   "source": [
    "tp=(1,2,3,4,5,6,7,8,9,10)\n",
    "tp1=tp[:5]\n",
    "tp2=tp[5:]\n",
    "print(tp1)\n",
    "print(tp2)"
   ]
  },
  {
   "cell_type": "code",
   "execution_count": null,
   "metadata": {},
   "outputs": [],
   "source": []
  },
  {
   "cell_type": "code",
   "execution_count": null,
   "metadata": {},
   "outputs": [],
   "source": []
  }
 ],
 "metadata": {
  "kernelspec": {
   "display_name": "Python 3",
   "language": "python",
   "name": "python3"
  },
  "language_info": {
   "codemirror_mode": {
    "name": "ipython",
    "version": 3
   },
   "file_extension": ".py",
   "mimetype": "text/x-python",
   "name": "python",
   "nbconvert_exporter": "python",
   "pygments_lexer": "ipython3",
   "version": "3.6.4"
  }
 },
 "nbformat": 4,
 "nbformat_minor": 2
}
